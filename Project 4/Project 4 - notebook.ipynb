{
 "cells": [
  {
   "cell_type": "markdown",
   "metadata": {},
   "source": [
    "# Project 4"
   ]
  },
  {
   "cell_type": "markdown",
   "metadata": {},
   "source": [
    "## Question 1"
   ]
  },
  {
   "cell_type": "code",
   "execution_count": 1,
   "metadata": {},
   "outputs": [],
   "source": [
    "import pandas as pd\n",
    "import numpy as np\n",
    "from numpy.random import rand\n",
    "\n",
    "import seaborn as sns\n",
    "import matplotlib\n",
    "import matplotlib.pyplot as plt\n",
    "import matplotlib.pylab as pylab\n",
    "\n",
    "%matplotlib inline\n",
    "\n",
    "sns.set(style='darkgrid')\n"
   ]
  },
  {
   "cell_type": "code",
   "execution_count": 2,
   "metadata": {},
   "outputs": [],
   "source": [
    "df = pd.read_csv('cf_jobsdf.csv')"
   ]
  },
  {
   "cell_type": "code",
   "execution_count": 3,
   "metadata": {},
   "outputs": [
    {
     "data": {
      "text/html": [
       "<div>\n",
       "<style scoped>\n",
       "    .dataframe tbody tr th:only-of-type {\n",
       "        vertical-align: middle;\n",
       "    }\n",
       "\n",
       "    .dataframe tbody tr th {\n",
       "        vertical-align: top;\n",
       "    }\n",
       "\n",
       "    .dataframe thead th {\n",
       "        text-align: right;\n",
       "    }\n",
       "</style>\n",
       "<table border=\"1\" class=\"dataframe\">\n",
       "  <thead>\n",
       "    <tr style=\"text-align: right;\">\n",
       "      <th></th>\n",
       "      <th>Unnamed: 0</th>\n",
       "      <th>Company</th>\n",
       "      <th>Title</th>\n",
       "      <th>Emp_type</th>\n",
       "      <th>Seniority</th>\n",
       "      <th>Industry</th>\n",
       "      <th>Salary</th>\n",
       "      <th>Responsibility</th>\n",
       "      <th>Requirements</th>\n",
       "    </tr>\n",
       "  </thead>\n",
       "  <tbody>\n",
       "    <tr>\n",
       "      <th>0</th>\n",
       "      <td>0</td>\n",
       "      <td>PLAZA PREMIUM LOUNGE SINGAPORE PTE. LTD.</td>\n",
       "      <td>marketing manager</td>\n",
       "      <td>Full Time</td>\n",
       "      <td>Manager</td>\n",
       "      <td>Marketing / Public Relations</td>\n",
       "      <td>$4,000to$4,500</td>\n",
       "      <td>Roles &amp; Responsibilities Initiating and placin...</td>\n",
       "      <td>Requirements Degree holder in Marketing or any...</td>\n",
       "    </tr>\n",
       "    <tr>\n",
       "      <th>1</th>\n",
       "      <td>1</td>\n",
       "      <td>NTUC ENTERPRISE CO-OPERATIVE LTD</td>\n",
       "      <td>Intern  /  Associate Engineer (iOS)</td>\n",
       "      <td>Full Time</td>\n",
       "      <td>Professional</td>\n",
       "      <td>Information Technology</td>\n",
       "      <td>$5,000to$8,000</td>\n",
       "      <td>Roles &amp; ResponsibilitiesNTUC Enterprise is par...</td>\n",
       "      <td>RequirementsRequirements   ·       3 years of ...</td>\n",
       "    </tr>\n",
       "    <tr>\n",
       "      <th>2</th>\n",
       "      <td>2</td>\n",
       "      <td>ACTIVANTS PTE LTD</td>\n",
       "      <td>Business Analyst</td>\n",
       "      <td>Permanent</td>\n",
       "      <td>Professional, Senior Executive</td>\n",
       "      <td>Information Technology</td>\n",
       "      <td>$3,500to$4,500</td>\n",
       "      <td>Roles &amp; Responsibilities·        Analyse and s...</td>\n",
       "      <td>Requirements You are required to have an attit...</td>\n",
       "    </tr>\n",
       "    <tr>\n",
       "      <th>3</th>\n",
       "      <td>3</td>\n",
       "      <td>CLOUDSTREAM ASIA PACIFIC PTE. LTD.</td>\n",
       "      <td>Data Scientist</td>\n",
       "      <td>Full Time</td>\n",
       "      <td>Middle Management</td>\n",
       "      <td>Information Technology</td>\n",
       "      <td>$6,000to$12,000</td>\n",
       "      <td>Roles &amp; Responsibilities  · M.S. or Ph.D. in R...</td>\n",
       "      <td>RequirementsBASIC QUALIFICATIONS · M.S. or Ph....</td>\n",
       "    </tr>\n",
       "    <tr>\n",
       "      <th>4</th>\n",
       "      <td>4</td>\n",
       "      <td>ICC ACADEMY PRIVATE LTD.</td>\n",
       "      <td>Digital Marketing Manager</td>\n",
       "      <td>Full Time</td>\n",
       "      <td>Manager</td>\n",
       "      <td>Education and Training</td>\n",
       "      <td>$3,000to$5,000</td>\n",
       "      <td>Roles &amp; ResponsibilitiesThis is a challenging ...</td>\n",
       "      <td>Requirements-bachelor’s degree in marketing. -...</td>\n",
       "    </tr>\n",
       "  </tbody>\n",
       "</table>\n",
       "</div>"
      ],
      "text/plain": [
       "   Unnamed: 0                                   Company  \\\n",
       "0           0  PLAZA PREMIUM LOUNGE SINGAPORE PTE. LTD.   \n",
       "1           1          NTUC ENTERPRISE CO-OPERATIVE LTD   \n",
       "2           2                         ACTIVANTS PTE LTD   \n",
       "3           3        CLOUDSTREAM ASIA PACIFIC PTE. LTD.   \n",
       "4           4                  ICC ACADEMY PRIVATE LTD.   \n",
       "\n",
       "                                 Title   Emp_type  \\\n",
       "0                    marketing manager  Full Time   \n",
       "1  Intern  /  Associate Engineer (iOS)  Full Time   \n",
       "2                     Business Analyst  Permanent   \n",
       "3                       Data Scientist  Full Time   \n",
       "4            Digital Marketing Manager  Full Time   \n",
       "\n",
       "                        Seniority                       Industry  \\\n",
       "0                         Manager  Marketing / Public Relations    \n",
       "1                    Professional         Information Technology   \n",
       "2  Professional, Senior Executive         Information Technology   \n",
       "3               Middle Management         Information Technology   \n",
       "4                         Manager         Education and Training   \n",
       "\n",
       "            Salary                                     Responsibility  \\\n",
       "0   $4,000to$4,500  Roles & Responsibilities Initiating and placin...   \n",
       "1   $5,000to$8,000  Roles & ResponsibilitiesNTUC Enterprise is par...   \n",
       "2   $3,500to$4,500  Roles & Responsibilities·        Analyse and s...   \n",
       "3  $6,000to$12,000  Roles & Responsibilities  · M.S. or Ph.D. in R...   \n",
       "4   $3,000to$5,000  Roles & ResponsibilitiesThis is a challenging ...   \n",
       "\n",
       "                                        Requirements  \n",
       "0  Requirements Degree holder in Marketing or any...  \n",
       "1  RequirementsRequirements   ·       3 years of ...  \n",
       "2  Requirements You are required to have an attit...  \n",
       "3  RequirementsBASIC QUALIFICATIONS · M.S. or Ph....  \n",
       "4  Requirements-bachelor’s degree in marketing. -...  "
      ]
     },
     "execution_count": 3,
     "metadata": {},
     "output_type": "execute_result"
    }
   ],
   "source": [
    "df.head()"
   ]
  },
  {
   "cell_type": "code",
   "execution_count": 4,
   "metadata": {},
   "outputs": [
    {
     "data": {
      "text/plain": [
       "(1961, 9)"
      ]
     },
     "execution_count": 4,
     "metadata": {},
     "output_type": "execute_result"
    }
   ],
   "source": [
    "df.shape"
   ]
  },
  {
   "cell_type": "code",
   "execution_count": 5,
   "metadata": {},
   "outputs": [
    {
     "data": {
      "text/plain": [
       "Unnamed: 0                                                        1\n",
       "Company                            NTUC ENTERPRISE CO-OPERATIVE LTD\n",
       "Title                           Intern  /  Associate Engineer (iOS)\n",
       "Emp_type                                                  Full Time\n",
       "Seniority                                              Professional\n",
       "Industry                                     Information Technology\n",
       "Salary                                               $5,000to$8,000\n",
       "Responsibility    Roles & ResponsibilitiesNTUC Enterprise is par...\n",
       "Requirements      RequirementsRequirements   ·       3 years of ...\n",
       "Name: 1, dtype: object"
      ]
     },
     "execution_count": 5,
     "metadata": {},
     "output_type": "execute_result"
    }
   ],
   "source": [
    "# take a look...\n",
    "df.loc[1,:]"
   ]
  },
  {
   "cell_type": "code",
   "execution_count": 6,
   "metadata": {},
   "outputs": [],
   "source": [
    "df.drop('Unnamed: 0', axis=1, inplace=True )"
   ]
  },
  {
   "cell_type": "code",
   "execution_count": 7,
   "metadata": {},
   "outputs": [
    {
     "data": {
      "text/html": [
       "<div>\n",
       "<style scoped>\n",
       "    .dataframe tbody tr th:only-of-type {\n",
       "        vertical-align: middle;\n",
       "    }\n",
       "\n",
       "    .dataframe tbody tr th {\n",
       "        vertical-align: top;\n",
       "    }\n",
       "\n",
       "    .dataframe thead th {\n",
       "        text-align: right;\n",
       "    }\n",
       "</style>\n",
       "<table border=\"1\" class=\"dataframe\">\n",
       "  <thead>\n",
       "    <tr style=\"text-align: right;\">\n",
       "      <th></th>\n",
       "      <th>Company</th>\n",
       "      <th>Title</th>\n",
       "      <th>Emp_type</th>\n",
       "      <th>Seniority</th>\n",
       "      <th>Industry</th>\n",
       "      <th>Salary</th>\n",
       "      <th>Responsibility</th>\n",
       "      <th>Requirements</th>\n",
       "    </tr>\n",
       "  </thead>\n",
       "  <tbody>\n",
       "    <tr>\n",
       "      <th>0</th>\n",
       "      <td>PLAZA PREMIUM LOUNGE SINGAPORE PTE. LTD.</td>\n",
       "      <td>marketing manager</td>\n",
       "      <td>Full Time</td>\n",
       "      <td>Manager</td>\n",
       "      <td>Marketing / Public Relations</td>\n",
       "      <td>$4,000to$4,500</td>\n",
       "      <td>Roles &amp; Responsibilities Initiating and placin...</td>\n",
       "      <td>Requirements Degree holder in Marketing or any...</td>\n",
       "    </tr>\n",
       "    <tr>\n",
       "      <th>1</th>\n",
       "      <td>NTUC ENTERPRISE CO-OPERATIVE LTD</td>\n",
       "      <td>Intern  /  Associate Engineer (iOS)</td>\n",
       "      <td>Full Time</td>\n",
       "      <td>Professional</td>\n",
       "      <td>Information Technology</td>\n",
       "      <td>$5,000to$8,000</td>\n",
       "      <td>Roles &amp; ResponsibilitiesNTUC Enterprise is par...</td>\n",
       "      <td>RequirementsRequirements   ·       3 years of ...</td>\n",
       "    </tr>\n",
       "    <tr>\n",
       "      <th>2</th>\n",
       "      <td>ACTIVANTS PTE LTD</td>\n",
       "      <td>Business Analyst</td>\n",
       "      <td>Permanent</td>\n",
       "      <td>Professional, Senior Executive</td>\n",
       "      <td>Information Technology</td>\n",
       "      <td>$3,500to$4,500</td>\n",
       "      <td>Roles &amp; Responsibilities·        Analyse and s...</td>\n",
       "      <td>Requirements You are required to have an attit...</td>\n",
       "    </tr>\n",
       "    <tr>\n",
       "      <th>3</th>\n",
       "      <td>CLOUDSTREAM ASIA PACIFIC PTE. LTD.</td>\n",
       "      <td>Data Scientist</td>\n",
       "      <td>Full Time</td>\n",
       "      <td>Middle Management</td>\n",
       "      <td>Information Technology</td>\n",
       "      <td>$6,000to$12,000</td>\n",
       "      <td>Roles &amp; Responsibilities  · M.S. or Ph.D. in R...</td>\n",
       "      <td>RequirementsBASIC QUALIFICATIONS · M.S. or Ph....</td>\n",
       "    </tr>\n",
       "    <tr>\n",
       "      <th>4</th>\n",
       "      <td>ICC ACADEMY PRIVATE LTD.</td>\n",
       "      <td>Digital Marketing Manager</td>\n",
       "      <td>Full Time</td>\n",
       "      <td>Manager</td>\n",
       "      <td>Education and Training</td>\n",
       "      <td>$3,000to$5,000</td>\n",
       "      <td>Roles &amp; ResponsibilitiesThis is a challenging ...</td>\n",
       "      <td>Requirements-bachelor’s degree in marketing. -...</td>\n",
       "    </tr>\n",
       "  </tbody>\n",
       "</table>\n",
       "</div>"
      ],
      "text/plain": [
       "                                    Company  \\\n",
       "0  PLAZA PREMIUM LOUNGE SINGAPORE PTE. LTD.   \n",
       "1          NTUC ENTERPRISE CO-OPERATIVE LTD   \n",
       "2                         ACTIVANTS PTE LTD   \n",
       "3        CLOUDSTREAM ASIA PACIFIC PTE. LTD.   \n",
       "4                  ICC ACADEMY PRIVATE LTD.   \n",
       "\n",
       "                                 Title   Emp_type  \\\n",
       "0                    marketing manager  Full Time   \n",
       "1  Intern  /  Associate Engineer (iOS)  Full Time   \n",
       "2                     Business Analyst  Permanent   \n",
       "3                       Data Scientist  Full Time   \n",
       "4            Digital Marketing Manager  Full Time   \n",
       "\n",
       "                        Seniority                       Industry  \\\n",
       "0                         Manager  Marketing / Public Relations    \n",
       "1                    Professional         Information Technology   \n",
       "2  Professional, Senior Executive         Information Technology   \n",
       "3               Middle Management         Information Technology   \n",
       "4                         Manager         Education and Training   \n",
       "\n",
       "            Salary                                     Responsibility  \\\n",
       "0   $4,000to$4,500  Roles & Responsibilities Initiating and placin...   \n",
       "1   $5,000to$8,000  Roles & ResponsibilitiesNTUC Enterprise is par...   \n",
       "2   $3,500to$4,500  Roles & Responsibilities·        Analyse and s...   \n",
       "3  $6,000to$12,000  Roles & Responsibilities  · M.S. or Ph.D. in R...   \n",
       "4   $3,000to$5,000  Roles & ResponsibilitiesThis is a challenging ...   \n",
       "\n",
       "                                        Requirements  \n",
       "0  Requirements Degree holder in Marketing or any...  \n",
       "1  RequirementsRequirements   ·       3 years of ...  \n",
       "2  Requirements You are required to have an attit...  \n",
       "3  RequirementsBASIC QUALIFICATIONS · M.S. or Ph....  \n",
       "4  Requirements-bachelor’s degree in marketing. -...  "
      ]
     },
     "execution_count": 7,
     "metadata": {},
     "output_type": "execute_result"
    }
   ],
   "source": [
    "# check\n",
    "df.head()"
   ]
  },
  {
   "cell_type": "markdown",
   "metadata": {},
   "source": [
    "#### Duplicates and nulls"
   ]
  },
  {
   "cell_type": "code",
   "execution_count": 8,
   "metadata": {},
   "outputs": [],
   "source": [
    "# drop duplicate rows\n",
    "duplicates = df[df.duplicated()]"
   ]
  },
  {
   "cell_type": "code",
   "execution_count": 9,
   "metadata": {},
   "outputs": [],
   "source": [
    "df.drop(duplicates.index, inplace=True)"
   ]
  },
  {
   "cell_type": "code",
   "execution_count": 10,
   "metadata": {},
   "outputs": [
    {
     "data": {
      "text/plain": [
       "False"
      ]
     },
     "execution_count": 10,
     "metadata": {},
     "output_type": "execute_result"
    }
   ],
   "source": [
    "# check\n",
    "df.duplicated().any()"
   ]
  },
  {
   "cell_type": "code",
   "execution_count": 11,
   "metadata": {},
   "outputs": [
    {
     "data": {
      "text/plain": [
       "Company             1\n",
       "Title               1\n",
       "Emp_type            1\n",
       "Seniority          28\n",
       "Industry            1\n",
       "Salary            176\n",
       "Responsibility      1\n",
       "Requirements       54\n",
       "dtype: int64"
      ]
     },
     "execution_count": 11,
     "metadata": {},
     "output_type": "execute_result"
    }
   ],
   "source": [
    "# check for nulls\n",
    "df.isnull().sum()"
   ]
  },
  {
   "cell_type": "code",
   "execution_count": 12,
   "metadata": {},
   "outputs": [],
   "source": [
    "# removing rows with all null values\n",
    "df.dropna(how='all', inplace=True)"
   ]
  },
  {
   "cell_type": "code",
   "execution_count": 13,
   "metadata": {},
   "outputs": [],
   "source": [
    "# drop null rows in the following as they cannot be imputed meaningfully\n",
    "df.dropna(subset = ['Seniority', 'Emp_type', 'Responsibility', 'Requirements'], inplace=True)"
   ]
  },
  {
   "cell_type": "code",
   "execution_count": 14,
   "metadata": {},
   "outputs": [
    {
     "data": {
      "text/plain": [
       "Company             0\n",
       "Title               0\n",
       "Emp_type            0\n",
       "Seniority           0\n",
       "Industry            0\n",
       "Salary            134\n",
       "Responsibility      0\n",
       "Requirements        0\n",
       "dtype: int64"
      ]
     },
     "execution_count": 14,
     "metadata": {},
     "output_type": "execute_result"
    }
   ],
   "source": [
    "# check\n",
    "df.isnull().sum()"
   ]
  },
  {
   "cell_type": "code",
   "execution_count": 15,
   "metadata": {
    "scrolled": false
   },
   "outputs": [],
   "source": [
    "# to tackle salary null values when looking into the columns below"
   ]
  },
  {
   "cell_type": "markdown",
   "metadata": {},
   "source": [
    "#### Title column"
   ]
  },
  {
   "cell_type": "code",
   "execution_count": 16,
   "metadata": {},
   "outputs": [
    {
     "data": {
      "text/plain": [
       "0                                     marketing manager\n",
       "1                   Intern  /  Associate Engineer (iOS)\n",
       "2                                      Business Analyst\n",
       "3                                        Data Scientist\n",
       "4                             Digital Marketing Manager\n",
       "5     Site Reliability Engineer (SRE) Lead, Global T...\n",
       "6                         SAP SuccessFactors Consultant\n",
       "7                              Scientist (WP2&3), TCOMS\n",
       "8                  System Engineer - Advanced Analytics\n",
       "9                               SAP SD Business Analyst\n",
       "10    Senior Principal Investigator  /  Principal In...\n",
       "11                                     Internal Auditor\n",
       "12                                      DevOps Engineer\n",
       "13             Sr Inside Software Compliance Specialist\n",
       "14                                      Physiotherapist\n",
       "15                                     Business Analyst\n",
       "16    Temp Admin Assistant (23 Nov- 31 March, Telok ...\n",
       "17                                  Logistics Assistant\n",
       "18                                       Data Scientist\n",
       "19                                     Python Developer\n",
       "Name: Title, dtype: object"
      ]
     },
     "execution_count": 16,
     "metadata": {},
     "output_type": "execute_result"
    }
   ],
   "source": [
    "df['Title'].head(20)"
   ]
  },
  {
   "cell_type": "code",
   "execution_count": 17,
   "metadata": {},
   "outputs": [],
   "source": [
    "# there are jobs that are not data related. marketing, hr, auditors, etc."
   ]
  },
  {
   "cell_type": "code",
   "execution_count": 18,
   "metadata": {},
   "outputs": [],
   "source": [
    "# therefore decided to pull out job titles with specific labels\n",
    "jobs = df[df['Title'].str.contains('Analyst|Scientist|Engineer|Data|Business Intelligence|Analytics')==True].reset_index()"
   ]
  },
  {
   "cell_type": "code",
   "execution_count": 19,
   "metadata": {},
   "outputs": [
    {
     "data": {
      "text/html": [
       "<div>\n",
       "<style scoped>\n",
       "    .dataframe tbody tr th:only-of-type {\n",
       "        vertical-align: middle;\n",
       "    }\n",
       "\n",
       "    .dataframe tbody tr th {\n",
       "        vertical-align: top;\n",
       "    }\n",
       "\n",
       "    .dataframe thead th {\n",
       "        text-align: right;\n",
       "    }\n",
       "</style>\n",
       "<table border=\"1\" class=\"dataframe\">\n",
       "  <thead>\n",
       "    <tr style=\"text-align: right;\">\n",
       "      <th></th>\n",
       "      <th>index</th>\n",
       "      <th>Company</th>\n",
       "      <th>Title</th>\n",
       "      <th>Emp_type</th>\n",
       "      <th>Seniority</th>\n",
       "      <th>Industry</th>\n",
       "      <th>Salary</th>\n",
       "      <th>Responsibility</th>\n",
       "      <th>Requirements</th>\n",
       "    </tr>\n",
       "  </thead>\n",
       "  <tbody>\n",
       "    <tr>\n",
       "      <th>0</th>\n",
       "      <td>1</td>\n",
       "      <td>NTUC ENTERPRISE CO-OPERATIVE LTD</td>\n",
       "      <td>Intern  /  Associate Engineer (iOS)</td>\n",
       "      <td>Full Time</td>\n",
       "      <td>Professional</td>\n",
       "      <td>Information Technology</td>\n",
       "      <td>$5,000to$8,000</td>\n",
       "      <td>Roles &amp; ResponsibilitiesNTUC Enterprise is par...</td>\n",
       "      <td>RequirementsRequirements   ·       3 years of ...</td>\n",
       "    </tr>\n",
       "    <tr>\n",
       "      <th>1</th>\n",
       "      <td>2</td>\n",
       "      <td>ACTIVANTS PTE LTD</td>\n",
       "      <td>Business Analyst</td>\n",
       "      <td>Permanent</td>\n",
       "      <td>Professional, Senior Executive</td>\n",
       "      <td>Information Technology</td>\n",
       "      <td>$3,500to$4,500</td>\n",
       "      <td>Roles &amp; Responsibilities·        Analyse and s...</td>\n",
       "      <td>Requirements You are required to have an attit...</td>\n",
       "    </tr>\n",
       "    <tr>\n",
       "      <th>2</th>\n",
       "      <td>3</td>\n",
       "      <td>CLOUDSTREAM ASIA PACIFIC PTE. LTD.</td>\n",
       "      <td>Data Scientist</td>\n",
       "      <td>Full Time</td>\n",
       "      <td>Middle Management</td>\n",
       "      <td>Information Technology</td>\n",
       "      <td>$6,000to$12,000</td>\n",
       "      <td>Roles &amp; Responsibilities  · M.S. or Ph.D. in R...</td>\n",
       "      <td>RequirementsBASIC QUALIFICATIONS · M.S. or Ph....</td>\n",
       "    </tr>\n",
       "  </tbody>\n",
       "</table>\n",
       "</div>"
      ],
      "text/plain": [
       "   index                             Company  \\\n",
       "0      1    NTUC ENTERPRISE CO-OPERATIVE LTD   \n",
       "1      2                   ACTIVANTS PTE LTD   \n",
       "2      3  CLOUDSTREAM ASIA PACIFIC PTE. LTD.   \n",
       "\n",
       "                                 Title   Emp_type  \\\n",
       "0  Intern  /  Associate Engineer (iOS)  Full Time   \n",
       "1                     Business Analyst  Permanent   \n",
       "2                       Data Scientist  Full Time   \n",
       "\n",
       "                        Seniority                Industry           Salary  \\\n",
       "0                    Professional  Information Technology   $5,000to$8,000   \n",
       "1  Professional, Senior Executive  Information Technology   $3,500to$4,500   \n",
       "2               Middle Management  Information Technology  $6,000to$12,000   \n",
       "\n",
       "                                      Responsibility  \\\n",
       "0  Roles & ResponsibilitiesNTUC Enterprise is par...   \n",
       "1  Roles & Responsibilities·        Analyse and s...   \n",
       "2  Roles & Responsibilities  · M.S. or Ph.D. in R...   \n",
       "\n",
       "                                        Requirements  \n",
       "0  RequirementsRequirements   ·       3 years of ...  \n",
       "1  Requirements You are required to have an attit...  \n",
       "2  RequirementsBASIC QUALIFICATIONS · M.S. or Ph....  "
      ]
     },
     "execution_count": 19,
     "metadata": {},
     "output_type": "execute_result"
    }
   ],
   "source": [
    "# check\n",
    "jobs.head(3)"
   ]
  },
  {
   "cell_type": "markdown",
   "metadata": {},
   "source": [
    "#### Employment type column"
   ]
  },
  {
   "cell_type": "code",
   "execution_count": 20,
   "metadata": {},
   "outputs": [
    {
     "data": {
      "text/plain": [
       "Full Time                                                            349\n",
       "Permanent                                                            187\n",
       "Permanent, Full Time                                                 179\n",
       "Contract, Full Time                                                  144\n",
       "Contract                                                             120\n",
       "Permanent, Contract, Full Time                                        14\n",
       "Permanent, Contract                                                   10\n",
       "Internship                                                             2\n",
       "Permanent, Contract, Internship                                        1\n",
       "Temporary, Contract                                                    1\n",
       "Permanent, Full Time, Internship                                       1\n",
       "Part Time, Permanent, Temporary, Freelance, Full Time, Internship      1\n",
       "Contract, Full Time, Internship                                        1\n",
       "Full Time, Internship                                                  1\n",
       "Name: Emp_type, dtype: int64"
      ]
     },
     "execution_count": 20,
     "metadata": {},
     "output_type": "execute_result"
    }
   ],
   "source": [
    "# take a look\n",
    "jobs['Emp_type'].value_counts()"
   ]
  },
  {
   "cell_type": "code",
   "execution_count": 21,
   "metadata": {},
   "outputs": [],
   "source": [
    "# to drop internships, as not meaningful for our analysis\n",
    "jobs = jobs[~jobs['Emp_type'].str.contains('Internship')]"
   ]
  },
  {
   "cell_type": "markdown",
   "metadata": {},
   "source": [
    "#### Responsibility column"
   ]
  },
  {
   "cell_type": "code",
   "execution_count": 22,
   "metadata": {},
   "outputs": [
    {
     "data": {
      "text/plain": [
       "\"Roles & ResponsibilitiesJPMorgan Chase & Co. (NYSE: JPM) is a leading global financial services firm with assets of $2.5 trillion and operations worldwide. The firm is a leader in investment banking, financial services for consumers and small business, commercial banking, financial transaction processing, and asset management. A component of the Dow Jones Industrial Average, JPMorgan Chase & Co. serves millions of consumers in the United States and many of the world's most prominent corporate, institutional and government clients under its J.P. Morgan and Chase brands. Information about JPMorgan Chase & Co. is available at www.jpmorganchase.com. J.P. Morgan is a place for talented people from all backgrounds and perspectives because our clients come from all backgrounds and perspectives. We encourage a culture of inclusion, where everyone's opinion counts and all employees have the freedom to deliver their absolute best. This is why we work hard and invest in attracting and developing a diverse workforce.\\xa0Learn more about our Business Resource Groups in how they help our employees build successful careers and reach their greatest potential. Our Global Technology Infrastructure group is a team of innovators rewarded with innovators who love technology as much as you do. Together, you’ll use a disciplined, innovative and a business focused approach to develop a wide variety of high-quality products and solutions. You’ll work in a stable, resilient and secure operating environment where you—and the products you deliver—will thrive. \\xa0 As an experienced Infrastructure Development professional, your mission is to help lead our team of innovators and technologists toward creating next-level solutions that improve the way our business is run. Your hands-on knowledge in system design, application development, testing and operational stability will help your team deliver high quality products. You’ll be instrumental in solving more difficult technical issues, developing integration elements, building data models, APIs, and open 3rd-party SDKs. You’ll see your ideas come to life as part of a small, success-driven team. Your quest to embracing leading-edge technologies and methodologies inspires your team to follow suit. And best of all, you’ll be able to harness massive amounts of brainpower through our global network of technologists from around the world to tackle big challenges. As a Site Reliability Engineer (SRE), you are responsible for the big picture of how our systems relate to each other, and will use a breadth of tools and approaches to solve a broad spectrum of problems. You will engage in and improve the whole lifecycle of products—from inception and design, through deployment, operation and refinement. You are also responsible for measuring and monitoring availability, latency and overall system health, including scaling of systems sustainably through mechanisms like automation, and evolve systems by pushing for changes that improve reliability and velocity. \\xa0\""
      ]
     },
     "execution_count": 22,
     "metadata": {},
     "output_type": "execute_result"
    }
   ],
   "source": [
    "# take a look at responsibility column\n",
    "jobs['Responsibility'][3]"
   ]
  },
  {
   "cell_type": "code",
   "execution_count": 23,
   "metadata": {},
   "outputs": [],
   "source": [
    "# need to remove the '\\xa0' and the 'roles and responsibilities' at the beginning"
   ]
  },
  {
   "cell_type": "code",
   "execution_count": 24,
   "metadata": {},
   "outputs": [],
   "source": [
    "jobs['Responsibility'] = jobs['Responsibility'].str.replace('\\xa0','')"
   ]
  },
  {
   "cell_type": "code",
   "execution_count": 25,
   "metadata": {},
   "outputs": [
    {
     "data": {
      "text/plain": [
       "0    Roles & Responsibilities\n",
       "1    Roles & Responsibilities\n",
       "2    Roles & Responsibilities\n",
       "3    Roles & Responsibilities\n",
       "4    Roles & Responsibilities\n",
       "Name: Responsibility, dtype: object"
      ]
     },
     "execution_count": 25,
     "metadata": {},
     "output_type": "execute_result"
    }
   ],
   "source": [
    "# to remove this from all cells in the column\n",
    "jobs['Responsibility'][:5].str[:24] "
   ]
  },
  {
   "cell_type": "code",
   "execution_count": 26,
   "metadata": {},
   "outputs": [],
   "source": [
    "jobs['Responsibility'] = jobs['Responsibility'].apply(lambda x: x[24:] if type(x) is str else x)"
   ]
  },
  {
   "cell_type": "markdown",
   "metadata": {},
   "source": [
    "#### Requirements column"
   ]
  },
  {
   "cell_type": "code",
   "execution_count": 27,
   "metadata": {},
   "outputs": [
    {
     "data": {
      "text/plain": [
       "'RequirementsRequirements\\xa0\\xa0 ·\\xa0\\xa0\\xa0\\xa0\\xa0\\xa0 3 years of experience in iOS.\\xa0\\xa0 ·\\xa0\\xa0\\xa0\\xa0\\xa0\\xa0 Experience consuming REST APIs.\\xa0\\xa0 ·\\xa0\\xa0\\xa0\\xa0\\xa0\\xa0 Solid knowledge in GIT and CI tools.\\xa0\\xa0 ·\\xa0\\xa0\\xa0\\xa0\\xa0\\xa0 Strong OOP background.\\xa0\\xa0 ·\\xa0\\xa0\\xa0\\xa0\\xa0\\xa0 Experience working in Agile teams.\\xa0\\xa0 ·\\xa0\\xa0\\xa0\\xa0\\xa0\\xa0 Have successfully launched mobile applications.\\xa0\\xa0'"
      ]
     },
     "execution_count": 27,
     "metadata": {},
     "output_type": "execute_result"
    }
   ],
   "source": [
    "# take a look at requirements column\n",
    "jobs['Requirements'][0]"
   ]
  },
  {
   "cell_type": "code",
   "execution_count": 28,
   "metadata": {},
   "outputs": [],
   "source": [
    "# need to remove the '\\xa0' and the 'requirements' at the beginning'"
   ]
  },
  {
   "cell_type": "code",
   "execution_count": 29,
   "metadata": {},
   "outputs": [],
   "source": [
    "jobs['Requirements'] = jobs['Requirements'].str.replace('\\xa0','')"
   ]
  },
  {
   "cell_type": "code",
   "execution_count": 30,
   "metadata": {},
   "outputs": [
    {
     "data": {
      "text/plain": [
       "0    Requirements\n",
       "1    Requirements\n",
       "2    Requirements\n",
       "3    Requirements\n",
       "4    Requirements\n",
       "Name: Requirements, dtype: object"
      ]
     },
     "execution_count": 30,
     "metadata": {},
     "output_type": "execute_result"
    }
   ],
   "source": [
    "# to remove this from all cells in the column\n",
    "jobs['Requirements'][:5].str[:12] "
   ]
  },
  {
   "cell_type": "code",
   "execution_count": 31,
   "metadata": {},
   "outputs": [],
   "source": [
    "jobs['Requirements'] = jobs['Requirements'].apply(lambda x: x[12:] if type(x) is str else x)"
   ]
  },
  {
   "cell_type": "markdown",
   "metadata": {},
   "source": [
    "#### Salary column"
   ]
  },
  {
   "cell_type": "code",
   "execution_count": 32,
   "metadata": {},
   "outputs": [
    {
     "data": {
      "text/plain": [
       "0     $5,000to$8,000\n",
       "1     $3,500to$4,500\n",
       "2    $6,000to$12,000\n",
       "3    $7,500to$15,000\n",
       "4     $4,500to$9,000\n",
       "Name: Salary, dtype: object"
      ]
     },
     "execution_count": 32,
     "metadata": {},
     "output_type": "execute_result"
    }
   ],
   "source": [
    "jobs['Salary'].head()"
   ]
  },
  {
   "cell_type": "code",
   "execution_count": 33,
   "metadata": {},
   "outputs": [],
   "source": [
    "# salaries are ranges, to take average of the two values"
   ]
  },
  {
   "cell_type": "code",
   "execution_count": 34,
   "metadata": {},
   "outputs": [],
   "source": [
    "# splitting them into lists first\n",
    "jobs['Salary'] = jobs['Salary'].apply(lambda x: x.replace('$', '').replace(',', '').split('to') if type(x) is str else x)"
   ]
  },
  {
   "cell_type": "code",
   "execution_count": 35,
   "metadata": {},
   "outputs": [
    {
     "data": {
      "text/plain": [
       "0     [5000, 8000]\n",
       "1     [3500, 4500]\n",
       "2    [6000, 12000]\n",
       "3    [7500, 15000]\n",
       "4     [4500, 9000]\n",
       "Name: Salary, dtype: object"
      ]
     },
     "execution_count": 35,
     "metadata": {},
     "output_type": "execute_result"
    }
   ],
   "source": [
    "# check\n",
    "jobs['Salary'].head()"
   ]
  },
  {
   "cell_type": "code",
   "execution_count": 36,
   "metadata": {},
   "outputs": [],
   "source": [
    "# replace with average\n",
    "jobs['Salary'] = jobs['Salary'].apply(lambda x: (float(x[0]) + float(x[1])) /2 if type(x) is list else x)"
   ]
  },
  {
   "cell_type": "code",
   "execution_count": 37,
   "metadata": {},
   "outputs": [
    {
     "data": {
      "text/plain": [
       "count       945.000000\n",
       "mean       9619.423810\n",
       "std       17672.692492\n",
       "min        1900.000000\n",
       "25%        5500.000000\n",
       "50%        6750.000000\n",
       "75%        8750.000000\n",
       "max      300000.000000\n",
       "Name: Salary, dtype: float64"
      ]
     },
     "execution_count": 37,
     "metadata": {},
     "output_type": "execute_result"
    }
   ],
   "source": [
    "jobs['Salary'].describe()"
   ]
  },
  {
   "cell_type": "code",
   "execution_count": 38,
   "metadata": {},
   "outputs": [
    {
     "data": {
      "text/plain": [
       "6750.0"
      ]
     },
     "execution_count": 38,
     "metadata": {},
     "output_type": "execute_result"
    }
   ],
   "source": [
    "jobs['Salary'].median()"
   ]
  },
  {
   "cell_type": "code",
   "execution_count": 39,
   "metadata": {},
   "outputs": [],
   "source": [
    "# there is a large variance between min and max. probably some are annual and some are monthly"
   ]
  },
  {
   "cell_type": "code",
   "execution_count": 40,
   "metadata": {},
   "outputs": [
    {
     "name": "stderr",
     "output_type": "stream",
     "text": [
      "/anaconda3/lib/python3.6/site-packages/scipy/stats/stats.py:1713: FutureWarning: Using a non-tuple sequence for multidimensional indexing is deprecated; use `arr[tuple(seq)]` instead of `arr[seq]`. In the future this will be interpreted as an array index, `arr[np.array(seq)]`, which will result either in an error or a different result.\n",
      "  return np.add.reduce(sorted[indexer] * weights, axis=axis) / sumval\n",
      "/anaconda3/lib/python3.6/site-packages/matplotlib/axes/_axes.py:6462: UserWarning: The 'normed' kwarg is deprecated, and has been replaced by the 'density' kwarg.\n",
      "  warnings.warn(\"The 'normed' kwarg is deprecated, and has been \"\n"
     ]
    },
    {
     "data": {
      "text/plain": [
       "<matplotlib.axes._subplots.AxesSubplot at 0x1a1c714320>"
      ]
     },
     "execution_count": 40,
     "metadata": {},
     "output_type": "execute_result"
    },
    {
     "data": {
      "image/png": "[encoded data removed]",
      "text/plain": [
       "<Figure size 432x288 with 1 Axes>"
      ]
     },
     "metadata": {},
     "output_type": "display_data"
    }
   ],
   "source": [
    "# taking a closer look, ignore nulls first\n",
    "sns.distplot(jobs['Salary'].dropna())"
   ]
  },
  {
   "cell_type": "code",
   "execution_count": 41,
   "metadata": {},
   "outputs": [],
   "source": [
    "# seems that above 30,000 it doesn't follow the distribution anymore\n",
    "# to assume that those above 25,000 are annual salaries\n",
    "# therefore to divide these figures by 12"
   ]
  },
  {
   "cell_type": "code",
   "execution_count": 42,
   "metadata": {},
   "outputs": [],
   "source": [
    "jobs.loc[jobs['Salary'] > 25000, 'Salary'] /= 12"
   ]
  },
  {
   "cell_type": "code",
   "execution_count": 43,
   "metadata": {},
   "outputs": [
    {
     "name": "stderr",
     "output_type": "stream",
     "text": [
      "/anaconda3/lib/python3.6/site-packages/scipy/stats/stats.py:1713: FutureWarning: Using a non-tuple sequence for multidimensional indexing is deprecated; use `arr[tuple(seq)]` instead of `arr[seq]`. In the future this will be interpreted as an array index, `arr[np.array(seq)]`, which will result either in an error or a different result.\n",
      "  return np.add.reduce(sorted[indexer] * weights, axis=axis) / sumval\n",
      "/anaconda3/lib/python3.6/site-packages/matplotlib/axes/_axes.py:6462: UserWarning: The 'normed' kwarg is deprecated, and has been replaced by the 'density' kwarg.\n",
      "  warnings.warn(\"The 'normed' kwarg is deprecated, and has been \"\n"
     ]
    },
    {
     "data": {
      "text/plain": [
       "<matplotlib.axes._subplots.AxesSubplot at 0x1a1c8e0400>"
      ]
     },
     "execution_count": 43,
     "metadata": {},
     "output_type": "execute_result"
    },
    {
     "data": {
      "image/png": "[encoded data removed]",
      "text/plain": [
       "<Figure size 432x288 with 1 Axes>"
      ]
     },
     "metadata": {},
     "output_type": "display_data"
    }
   ],
   "source": [
    "# check\n",
    "sns.distplot(jobs['Salary'].dropna())\n",
    "# seems to make more sense now"
   ]
  },
  {
   "cell_type": "code",
   "execution_count": 44,
   "metadata": {},
   "outputs": [],
   "source": [
    "# dealing with the null values"
   ]
  },
  {
   "cell_type": "code",
   "execution_count": 45,
   "metadata": {},
   "outputs": [
    {
     "data": {
      "text/html": [
       "<div>\n",
       "<style scoped>\n",
       "    .dataframe tbody tr th:only-of-type {\n",
       "        vertical-align: middle;\n",
       "    }\n",
       "\n",
       "    .dataframe tbody tr th {\n",
       "        vertical-align: top;\n",
       "    }\n",
       "\n",
       "    .dataframe thead th {\n",
       "        text-align: right;\n",
       "    }\n",
       "</style>\n",
       "<table border=\"1\" class=\"dataframe\">\n",
       "  <thead>\n",
       "    <tr style=\"text-align: right;\">\n",
       "      <th></th>\n",
       "      <th>index</th>\n",
       "      <th>Company</th>\n",
       "      <th>Title</th>\n",
       "      <th>Emp_type</th>\n",
       "      <th>Seniority</th>\n",
       "      <th>Industry</th>\n",
       "      <th>Salary</th>\n",
       "      <th>Responsibility</th>\n",
       "      <th>Requirements</th>\n",
       "    </tr>\n",
       "  </thead>\n",
       "  <tbody>\n",
       "    <tr>\n",
       "      <th>16</th>\n",
       "      <td>36</td>\n",
       "      <td>CROWN EQUIPMENT (SINGAPORE) PTE. LTD.</td>\n",
       "      <td>Key Account Data Analyst, SEA</td>\n",
       "      <td>Full Time</td>\n",
       "      <td>Professional</td>\n",
       "      <td>Others</td>\n",
       "      <td>NaN</td>\n",
       "      <td>Provide key data to ensure that our customer, ...</td>\n",
       "      <td>Knowledge, Skills &amp; Experience - Excellent wri...</td>\n",
       "    </tr>\n",
       "    <tr>\n",
       "      <th>20</th>\n",
       "      <td>43</td>\n",
       "      <td>BLUECHIP PLATFORMS ASIA PTE. LTD.</td>\n",
       "      <td>Market Risk Analyst Oil &amp; Gas</td>\n",
       "      <td>Full Time</td>\n",
       "      <td>Senior Executive</td>\n",
       "      <td>Risk Management, Banking and Finance</td>\n",
       "      <td>NaN</td>\n",
       "      <td>Our client is listed on the stock exchange in ...</td>\n",
       "      <td>**Apply here** https://www.bluechipcareers-asi...</td>\n",
       "    </tr>\n",
       "    <tr>\n",
       "      <th>31</th>\n",
       "      <td>62</td>\n",
       "      <td>Company Undisclosed</td>\n",
       "      <td>Data Scientist</td>\n",
       "      <td>Full Time</td>\n",
       "      <td>Professional</td>\n",
       "      <td>Information Technology</td>\n",
       "      <td>NaN</td>\n",
       "      <td>​Our Client is an established company in Singa...</td>\n",
       "      <td>Ph.D. or Master’s Degree in operations resear...</td>\n",
       "    </tr>\n",
       "    <tr>\n",
       "      <th>51</th>\n",
       "      <td>104</td>\n",
       "      <td>ANOTECH ENERGY SINGAPORE PTE. LTD.</td>\n",
       "      <td>Business Analyst (CIB)</td>\n",
       "      <td>Contract, Full Time</td>\n",
       "      <td>Executive</td>\n",
       "      <td>Information Technology</td>\n",
       "      <td>NaN</td>\n",
       "      <td>An exciting opportunity with one of our client...</td>\n",
       "      <td>Qualifications and Profile This position requi...</td>\n",
       "    </tr>\n",
       "    <tr>\n",
       "      <th>63</th>\n",
       "      <td>127</td>\n",
       "      <td>RESORTS WORLD AT SENTOSA PTE. LTD.</td>\n",
       "      <td>IT Business Analyst, Data Technology</td>\n",
       "      <td>Permanent</td>\n",
       "      <td>Manager</td>\n",
       "      <td>Information Technology</td>\n",
       "      <td>NaN</td>\n",
       "      <td>Gather, analyze and assess business requireme...</td>\n",
       "      <td>Degree in Computer Science, Engineering, Info...</td>\n",
       "    </tr>\n",
       "    <tr>\n",
       "      <th>77</th>\n",
       "      <td>153</td>\n",
       "      <td>SBS TRANSIT LTD</td>\n",
       "      <td>Engineer, Rolling Stock (Engineering Train Unit)</td>\n",
       "      <td>Permanent, Full Time</td>\n",
       "      <td>Executive</td>\n",
       "      <td>Engineering</td>\n",
       "      <td>NaN</td>\n",
       "      <td>Responsible for managing, planning and execut...</td>\n",
       "      <td>Degree in Electrical &amp; / or Electronics / Mec...</td>\n",
       "    </tr>\n",
       "    <tr>\n",
       "      <th>107</th>\n",
       "      <td>206</td>\n",
       "      <td>SURBANA JURONG CONSULTANTS PTE. LTD.</td>\n",
       "      <td>Human Resource System Data Analyst</td>\n",
       "      <td>Permanent, Full Time</td>\n",
       "      <td>Executive</td>\n",
       "      <td>Human Resources , Information Technology</td>\n",
       "      <td>NaN</td>\n",
       "      <td>Role Summary The incumbent must be a technical...</td>\n",
       "      <td>Requirements:  Possess at least a Diploma, Adv...</td>\n",
       "    </tr>\n",
       "    <tr>\n",
       "      <th>116</th>\n",
       "      <td>218</td>\n",
       "      <td>Company Undisclosed</td>\n",
       "      <td>Data Scientist</td>\n",
       "      <td>Permanent, Full Time</td>\n",
       "      <td>Professional</td>\n",
       "      <td>Information Technology</td>\n",
       "      <td>NaN</td>\n",
       "      <td>IN THIS POSITION YOU WILL:  Work closely with ...</td>\n",
       "      <td>KEY REQUIREMENTS:  MS or PhD in Computer Scien...</td>\n",
       "    </tr>\n",
       "    <tr>\n",
       "      <th>130</th>\n",
       "      <td>241</td>\n",
       "      <td>SINGAPORE HEALTH SERVICES PTE LTD</td>\n",
       "      <td>Manager, Data Science</td>\n",
       "      <td>Full Time</td>\n",
       "      <td>Manager</td>\n",
       "      <td>Others</td>\n",
       "      <td>NaN</td>\n",
       "      <td>The Office for Insights and Analytics spearhea...</td>\n",
       "      <td>PhD, Masters or Bachelors in quantitative dis...</td>\n",
       "    </tr>\n",
       "    <tr>\n",
       "      <th>143</th>\n",
       "      <td>270</td>\n",
       "      <td>Company Undisclosed</td>\n",
       "      <td>Senior Manager / Manager(Data policy &amp; Research)</td>\n",
       "      <td>Permanent</td>\n",
       "      <td>Manager</td>\n",
       "      <td>Admin / Secretarial, Others, Public / Civil Se...</td>\n",
       "      <td>NaN</td>\n",
       "      <td>Formulate and review policy positions, framew...</td>\n",
       "      <td>Masters or good bachelor’s degree in any rele...</td>\n",
       "    </tr>\n",
       "    <tr>\n",
       "      <th>156</th>\n",
       "      <td>298</td>\n",
       "      <td>VIRTUSA SINGAPORE PRIVATE LIMITED</td>\n",
       "      <td>Business Analyst with AI / ML</td>\n",
       "      <td>Full Time</td>\n",
       "      <td>Professional</td>\n",
       "      <td>Information Technology</td>\n",
       "      <td>NaN</td>\n",
       "      <td>Roles and responsibilities:  Develop requireme...</td>\n",
       "      <td>Requirements:  4 to 10+ years BA experience id...</td>\n",
       "    </tr>\n",
       "    <tr>\n",
       "      <th>175</th>\n",
       "      <td>340</td>\n",
       "      <td>BIOQUEST ADVISORY PTE. LTD.</td>\n",
       "      <td>IT Analyst (Consulting)</td>\n",
       "      <td>Permanent, Full Time</td>\n",
       "      <td>Fresh/entry level, Junior Executive</td>\n",
       "      <td>Consulting , Information Technology, Professio...</td>\n",
       "      <td>NaN</td>\n",
       "      <td>Introducing our firm BioQuest Advisory is a Si...</td>\n",
       "      <td>Your profile  Diploma in Information Technolog...</td>\n",
       "    </tr>\n",
       "    <tr>\n",
       "      <th>195</th>\n",
       "      <td>370</td>\n",
       "      <td>BLUECHIP PLATFORMS ASIA PTE. LTD.</td>\n",
       "      <td>Investment Risk Analyst (Contract) - 3-6 month...</td>\n",
       "      <td>Full Time</td>\n",
       "      <td>Executive</td>\n",
       "      <td>Risk Management, Banking and Finance</td>\n",
       "      <td>NaN</td>\n",
       "      <td>Our client is a leading US based commodities f...</td>\n",
       "      <td>**Apply here** https://www.bluechipcareers-asi...</td>\n",
       "    </tr>\n",
       "    <tr>\n",
       "      <th>218</th>\n",
       "      <td>421</td>\n",
       "      <td>SINGAPORE LNG CORPORATION PTE. LTD.</td>\n",
       "      <td>Business Process Analyst</td>\n",
       "      <td>Permanent, Full Time</td>\n",
       "      <td>Fresh/entry level, Executive</td>\n",
       "      <td>Information Technology, Others</td>\n",
       "      <td>NaN</td>\n",
       "      <td>General Overview:   The successful candidate w...</td>\n",
       "      <td>Work Experience Requirements:   Up to 2 years’...</td>\n",
       "    </tr>\n",
       "    <tr>\n",
       "      <th>235</th>\n",
       "      <td>446</td>\n",
       "      <td>OVERSEA-CHINESE BANKING CORPORATION LIMITED</td>\n",
       "      <td>Business Analyst, Murex Specialist, Global Tre...</td>\n",
       "      <td>Contract</td>\n",
       "      <td>Executive</td>\n",
       "      <td>Banking and Finance</td>\n",
       "      <td>NaN</td>\n",
       "      <td>Acting as a Business Coordinator and Cross-Fun...</td>\n",
       "      <td>• Ideally degree in mathematical or financial ...</td>\n",
       "    </tr>\n",
       "    <tr>\n",
       "      <th>243</th>\n",
       "      <td>459</td>\n",
       "      <td>BLUECHIP PLATFORMS ASIA PTE. LTD.</td>\n",
       "      <td>Senior Oil Markets Analyst – Energy trading</td>\n",
       "      <td>Full Time</td>\n",
       "      <td>Professional</td>\n",
       "      <td>Banking and Finance</td>\n",
       "      <td>NaN</td>\n",
       "      <td>- Across the barrel coverage (Crude, light end...</td>\n",
       "      <td>**Apply here** https://www.bluechipcareers-asi...</td>\n",
       "    </tr>\n",
       "    <tr>\n",
       "      <th>247</th>\n",
       "      <td>465</td>\n",
       "      <td>ALPHABIT CONSULTING PTE. LTD.</td>\n",
       "      <td>Business Intelligence Analyst</td>\n",
       "      <td>Permanent</td>\n",
       "      <td>Junior Executive</td>\n",
       "      <td>Others</td>\n",
       "      <td>NaN</td>\n",
       "      <td>Extract actionable insights through analyzing...</td>\n",
       "      <td>Min. Bachelor and above which major in Busine...</td>\n",
       "    </tr>\n",
       "    <tr>\n",
       "      <th>292</th>\n",
       "      <td>537</td>\n",
       "      <td>ISMART SYNERGY PTE. LTD.</td>\n",
       "      <td>Hiring Senior Data Scientist. Direct Applicant...</td>\n",
       "      <td>Permanent, Contract, Full Time</td>\n",
       "      <td>Senior Management, Professional</td>\n",
       "      <td>Information Technology</td>\n",
       "      <td>NaN</td>\n",
       "      <td>To succeed in this role the candidate must pos...</td>\n",
       "      <td>Key Requirements:  Experience producing and ra...</td>\n",
       "    </tr>\n",
       "    <tr>\n",
       "      <th>295</th>\n",
       "      <td>544</td>\n",
       "      <td>BLUECHIP PLATFORMS ASIA PTE. LTD.</td>\n",
       "      <td>Business Analyst - 1 year contract</td>\n",
       "      <td>Full Time</td>\n",
       "      <td>Senior Executive</td>\n",
       "      <td>Banking and Finance</td>\n",
       "      <td>NaN</td>\n",
       "      <td>Our client is a multinational banking and fina...</td>\n",
       "      <td>**Apply here** https://www.bluechipcareers-asi...</td>\n",
       "    </tr>\n",
       "    <tr>\n",
       "      <th>349</th>\n",
       "      <td>650</td>\n",
       "      <td>CUBEE PTE. LTD.</td>\n",
       "      <td>AI Engineer – Natural Language Processing</td>\n",
       "      <td>Full Time</td>\n",
       "      <td>Executive</td>\n",
       "      <td>Information Technology</td>\n",
       "      <td>NaN</td>\n",
       "      <td>Using proper NLP algorithms to address busine...</td>\n",
       "      <td>Rich NLP experience with python Knowledge of ...</td>\n",
       "    </tr>\n",
       "    <tr>\n",
       "      <th>353</th>\n",
       "      <td>655</td>\n",
       "      <td>BEATHCHAPMAN (PTE. LTD.)</td>\n",
       "      <td>Senior Data Analyst</td>\n",
       "      <td>Permanent</td>\n",
       "      <td>Senior Management</td>\n",
       "      <td>Information Technology</td>\n",
       "      <td>NaN</td>\n",
       "      <td>New-Tech environment Senior position Financia...</td>\n",
       "      <td>Develop AI Algorithm, Deep Learning/Neural Ne...</td>\n",
       "    </tr>\n",
       "    <tr>\n",
       "      <th>367</th>\n",
       "      <td>680</td>\n",
       "      <td>SCIENTE INTERNATIONAL PTE. LTD.</td>\n",
       "      <td>Data Scientist (JD#4567)</td>\n",
       "      <td>Contract, Full Time</td>\n",
       "      <td>Professional</td>\n",
       "      <td>Banking and Finance</td>\n",
       "      <td>NaN</td>\n",
       "      <td>An excellent opportunity to gain experience in...</td>\n",
       "      <td>Mandatory Skill-set  PHD / Masters/ Bachelors ...</td>\n",
       "    </tr>\n",
       "    <tr>\n",
       "      <th>392</th>\n",
       "      <td>729</td>\n",
       "      <td>TALENT SPOT GROUP PRIVATE LTD.</td>\n",
       "      <td>Snr Product Engineer (Power  /  Performance)</td>\n",
       "      <td>Full Time</td>\n",
       "      <td>Senior Executive</td>\n",
       "      <td>Engineering, Information Technology, Manufactu...</td>\n",
       "      <td>NaN</td>\n",
       "      <td>As a Snr Product Engineer (Power / Performance...</td>\n",
       "      <td>Required Skills Sets  A recognized Degree in E...</td>\n",
       "    </tr>\n",
       "    <tr>\n",
       "      <th>406</th>\n",
       "      <td>760</td>\n",
       "      <td>Company Undisclosed</td>\n",
       "      <td>Senior Engineer, Electrical</td>\n",
       "      <td>Contract</td>\n",
       "      <td>Executive</td>\n",
       "      <td>Engineering</td>\n",
       "      <td>NaN</td>\n",
       "      <td>Overall To independently define the concepts a...</td>\n",
       "      <td>~6 to 7 years of relevant working experience i...</td>\n",
       "    </tr>\n",
       "    <tr>\n",
       "      <th>408</th>\n",
       "      <td>763</td>\n",
       "      <td>SERVICESOURCE INTERNATIONAL SINGAPORE PTE. LTD.</td>\n",
       "      <td>Inside Sales Business Intelligence Analyst</td>\n",
       "      <td>Full Time</td>\n",
       "      <td>Professional</td>\n",
       "      <td>Others</td>\n",
       "      <td>NaN</td>\n",
       "      <td>Role Description: The Inside Sales BI Analyst ...</td>\n",
       "      <td>General Qualifications: Bachelor degree, prefe...</td>\n",
       "    </tr>\n",
       "    <tr>\n",
       "      <th>427</th>\n",
       "      <td>804</td>\n",
       "      <td>LINKSURE NETWORK HOLDING PTE. LIMITED</td>\n",
       "      <td>Data Warehousing Analyst</td>\n",
       "      <td>Permanent</td>\n",
       "      <td>Junior Executive</td>\n",
       "      <td>Information Technology</td>\n",
       "      <td>NaN</td>\n",
       "      <td>Design, build, optimize and support data tabl...</td>\n",
       "      <td>2+ years hands-on experience in data warehous...</td>\n",
       "    </tr>\n",
       "    <tr>\n",
       "      <th>451</th>\n",
       "      <td>858</td>\n",
       "      <td>STRIDES PHARMA GLOBAL PTE. LIMITED</td>\n",
       "      <td>Senior QC Analyst</td>\n",
       "      <td>Full Time</td>\n",
       "      <td>Executive</td>\n",
       "      <td>Healthcare / Pharmaceutical, Manufacturing, Sc...</td>\n",
       "      <td>NaN</td>\n",
       "      <td>KEY DUTIES AND RESPONSIBILITES:  Perform analy...</td>\n",
       "      <td>Degree / Diploma in Science related discipline...</td>\n",
       "    </tr>\n",
       "    <tr>\n",
       "      <th>456</th>\n",
       "      <td>870</td>\n",
       "      <td>BLUECHIP PLATFORMS ASIA PTE. LTD.</td>\n",
       "      <td>Business Analyst (Secured Risk) - 1 year contract</td>\n",
       "      <td>Full Time</td>\n",
       "      <td>Senior Executive</td>\n",
       "      <td>Banking and Finance</td>\n",
       "      <td>NaN</td>\n",
       "      <td>Our client is a multinational banking and fina...</td>\n",
       "      <td>**Apply here** https://www.bluechipcareers-asi...</td>\n",
       "    </tr>\n",
       "    <tr>\n",
       "      <th>495</th>\n",
       "      <td>942</td>\n",
       "      <td>XENDIT PTE. LTD.</td>\n",
       "      <td>Data Scientist</td>\n",
       "      <td>Permanent, Full Time</td>\n",
       "      <td>Senior Executive</td>\n",
       "      <td>Information Technology</td>\n",
       "      <td>NaN</td>\n",
       "      <td>Data scientist Build &amp; evolve Xendit’s data mo...</td>\n",
       "      <td>You may be a good fit if you  Have 5 years of ...</td>\n",
       "    </tr>\n",
       "    <tr>\n",
       "      <th>509</th>\n",
       "      <td>968</td>\n",
       "      <td>EXPLOIT TECHNOLOGIES PTE LTD</td>\n",
       "      <td>Software Engineer</td>\n",
       "      <td>Full Time</td>\n",
       "      <td>Manager</td>\n",
       "      <td>Sciences / Laboratory / R&amp;D</td>\n",
       "      <td>NaN</td>\n",
       "      <td>Job Description The software engineer shall  D...</td>\n",
       "      <td>Job Specifications Qualification: Minimum bach...</td>\n",
       "    </tr>\n",
       "    <tr>\n",
       "      <th>519</th>\n",
       "      <td>991</td>\n",
       "      <td>Company Undisclosed</td>\n",
       "      <td>Senior Data Scientist</td>\n",
       "      <td>Full Time</td>\n",
       "      <td>Professional</td>\n",
       "      <td>Professional Services</td>\n",
       "      <td>NaN</td>\n",
       "      <td>Minimum of 4-5 years’ experience with the stan...</td>\n",
       "      <td>Experience in relevant area of scientific disc...</td>\n",
       "    </tr>\n",
       "    <tr>\n",
       "      <th>526</th>\n",
       "      <td>1012</td>\n",
       "      <td>SILENT EIGHT PTE. LTD.</td>\n",
       "      <td>Data Scientist</td>\n",
       "      <td>Full Time</td>\n",
       "      <td>Executive</td>\n",
       "      <td>Information Technology</td>\n",
       "      <td>NaN</td>\n",
       "      <td>Who we are We are an award-winning innovative ...</td>\n",
       "      <td>Requirements:  Min. 2 years of relevant experi...</td>\n",
       "    </tr>\n",
       "    <tr>\n",
       "      <th>532</th>\n",
       "      <td>1025</td>\n",
       "      <td>ALPHABIT CONSULTING PTE. LTD.</td>\n",
       "      <td>Business Analyst</td>\n",
       "      <td>Permanent, Full Time</td>\n",
       "      <td>Junior Executive</td>\n",
       "      <td>Others</td>\n",
       "      <td>NaN</td>\n",
       "      <td>Research and analyze blockchain based token m...</td>\n",
       "      <td>A strong interest in cryptocurrencies, invest...</td>\n",
       "    </tr>\n",
       "    <tr>\n",
       "      <th>557</th>\n",
       "      <td>1071</td>\n",
       "      <td>EPS COMPUTER SYSTEMS PTE LTD</td>\n",
       "      <td>IT Business Analyst</td>\n",
       "      <td>Contract, Full Time</td>\n",
       "      <td>Executive</td>\n",
       "      <td>Information Technology</td>\n",
       "      <td>NaN</td>\n",
       "      <td>• 1-year contract with Completion Bonus Job Re...</td>\n",
       "      <td>Job Requirements: • Degree in IT / Computer Sc...</td>\n",
       "    </tr>\n",
       "    <tr>\n",
       "      <th>589</th>\n",
       "      <td>1134</td>\n",
       "      <td>HYDROINFORMATICS INSTITUTE PTE. LTD.</td>\n",
       "      <td>Data Engineer</td>\n",
       "      <td>Full Time</td>\n",
       "      <td>Executive</td>\n",
       "      <td>Professional Services</td>\n",
       "      <td>NaN</td>\n",
       "      <td>Roles and Responsibilities:  Implement data wr...</td>\n",
       "      <td>Masters or PhD in one of the mathematical sci...</td>\n",
       "    </tr>\n",
       "    <tr>\n",
       "      <th>665</th>\n",
       "      <td>1296</td>\n",
       "      <td>Company Undisclosed</td>\n",
       "      <td>Business Analytics Manager, E-commerce (Google...</td>\n",
       "      <td>Full Time</td>\n",
       "      <td>Manager</td>\n",
       "      <td>Marketing / Public Relations</td>\n",
       "      <td>NaN</td>\n",
       "      <td>Manages a team of business analysts executive...</td>\n",
       "      <td>Min. Bachelor Degree in Business or equivalen...</td>\n",
       "    </tr>\n",
       "    <tr>\n",
       "      <th>678</th>\n",
       "      <td>1320</td>\n",
       "      <td>PEOPLEBANK SINGAPORE PTE. LTD.</td>\n",
       "      <td>Senior Financial Analyst</td>\n",
       "      <td>Contract</td>\n",
       "      <td>Senior Management</td>\n",
       "      <td>Banking and Finance</td>\n",
       "      <td>NaN</td>\n",
       "      <td>Senior Financial Analyst  2 years contract Com...</td>\n",
       "      <td>Your Background  First level university degree...</td>\n",
       "    </tr>\n",
       "    <tr>\n",
       "      <th>723</th>\n",
       "      <td>1411</td>\n",
       "      <td>BLUECHIP PLATFORMS ASIA PTE. LTD.</td>\n",
       "      <td>Lead Quantitative Risk Analyst – Commodity Tra...</td>\n",
       "      <td>Full Time</td>\n",
       "      <td>Senior Executive</td>\n",
       "      <td>Banking and Finance, Information Technology</td>\n",
       "      <td>NaN</td>\n",
       "      <td>• Highly ambitious, fast growing commodity tra...</td>\n",
       "      <td>**Apply here** https://www.bluechipcareers-asi...</td>\n",
       "    </tr>\n",
       "    <tr>\n",
       "      <th>764</th>\n",
       "      <td>1485</td>\n",
       "      <td>NANYANG TECHNOLOGICAL UNIVERSITY</td>\n",
       "      <td>Business Analyst, Student Management System (1...</td>\n",
       "      <td>Contract, Full Time</td>\n",
       "      <td>Manager</td>\n",
       "      <td>Information Technology</td>\n",
       "      <td>NaN</td>\n",
       "      <td>The Business Analyst plays a critical role in ...</td>\n",
       "      <td>Requirements • Bachelor degree in Information ...</td>\n",
       "    </tr>\n",
       "    <tr>\n",
       "      <th>769</th>\n",
       "      <td>1499</td>\n",
       "      <td>IZENO PRIVATE LIMITED</td>\n",
       "      <td>Senior Business Analyst</td>\n",
       "      <td>Permanent</td>\n",
       "      <td>Senior Executive</td>\n",
       "      <td>Consulting , Information Technology, Others, P...</td>\n",
       "      <td>NaN</td>\n",
       "      <td>Collaboratively work with customers, project ...</td>\n",
       "      <td>Bachelor Degree in Business Studies/Business ...</td>\n",
       "    </tr>\n",
       "    <tr>\n",
       "      <th>777</th>\n",
       "      <td>1512</td>\n",
       "      <td>FOX NETWORKS GROUP SINGAPORE  PTE. LTD.</td>\n",
       "      <td>Data, Analytics &amp; Marketing Technology Engineer</td>\n",
       "      <td>Permanent</td>\n",
       "      <td>Manager</td>\n",
       "      <td>Information Technology</td>\n",
       "      <td>NaN</td>\n",
       "      <td>The Role: We are looking for a DevOps Engineer...</td>\n",
       "      <td>Must-haves  Minimum 3 years working knowledge ...</td>\n",
       "    </tr>\n",
       "    <tr>\n",
       "      <th>830</th>\n",
       "      <td>1629</td>\n",
       "      <td>KASISTO SINGAPORE PTE. LTD.</td>\n",
       "      <td>Software Engineer</td>\n",
       "      <td>Full Time</td>\n",
       "      <td>Non-executive</td>\n",
       "      <td>Banking and Finance, Information Technology</td>\n",
       "      <td>NaN</td>\n",
       "      <td>Kasisto, a FinTech startup, is on a mission to...</td>\n",
       "      <td>Bachelor's or Master's degree in Software Engi...</td>\n",
       "    </tr>\n",
       "    <tr>\n",
       "      <th>843</th>\n",
       "      <td>1650</td>\n",
       "      <td>THE BANK OF EAST ASIA LIMITED</td>\n",
       "      <td>IT Infrastructure Engineer</td>\n",
       "      <td>Full Time</td>\n",
       "      <td>Manager</td>\n",
       "      <td>Information Technology</td>\n",
       "      <td>NaN</td>\n",
       "      <td>You will be required to insall, design and adm...</td>\n",
       "      <td>- universitydegree in computerscience or equiv...</td>\n",
       "    </tr>\n",
       "    <tr>\n",
       "      <th>845</th>\n",
       "      <td>1653</td>\n",
       "      <td>UNILITE RECRUITMENT SERVICES PTE. LTD.</td>\n",
       "      <td>HR Analyst, Reporting &amp; Analytics-Contract (In...</td>\n",
       "      <td>Contract, Full Time</td>\n",
       "      <td>Manager, Executive, Senior Executive</td>\n",
       "      <td>Human Resources</td>\n",
       "      <td>NaN</td>\n",
       "      <td>Work collaboratively with leaders in the deve...</td>\n",
       "      <td>Bachelor’s degree in HRM, IT or Computer Scie...</td>\n",
       "    </tr>\n",
       "    <tr>\n",
       "      <th>851</th>\n",
       "      <td>1663</td>\n",
       "      <td>Company Undisclosed</td>\n",
       "      <td>Business Analyst</td>\n",
       "      <td>Permanent, Full Time</td>\n",
       "      <td>Executive</td>\n",
       "      <td>Others</td>\n",
       "      <td>NaN</td>\n",
       "      <td>ABOUT ZILINGO: Zilingo is a fast-growing fashi...</td>\n",
       "      <td>Professional expectations   Think critically a...</td>\n",
       "    </tr>\n",
       "    <tr>\n",
       "      <th>855</th>\n",
       "      <td>1670</td>\n",
       "      <td>HOOQ DIGITAL PTE. LTD.</td>\n",
       "      <td>Data Engineer</td>\n",
       "      <td>Permanent</td>\n",
       "      <td>Manager</td>\n",
       "      <td>Engineering, Information Technology</td>\n",
       "      <td>NaN</td>\n",
       "      <td>We are looking for a Data Engineer to join our...</td>\n",
       "      <td>Desired Skills and Experience  Minimum 3 years...</td>\n",
       "    </tr>\n",
       "    <tr>\n",
       "      <th>888</th>\n",
       "      <td>1729</td>\n",
       "      <td>Company Undisclosed</td>\n",
       "      <td>Businees Intelligence Analyst</td>\n",
       "      <td>Contract</td>\n",
       "      <td>Senior Executive</td>\n",
       "      <td>Information Technology</td>\n",
       "      <td>NaN</td>\n",
       "      <td>Requirements/Responsibilities:  Candidate must...</td>\n",
       "      <td>Others:  5 day work week Located in Towm Salar...</td>\n",
       "    </tr>\n",
       "    <tr>\n",
       "      <th>889</th>\n",
       "      <td>1733</td>\n",
       "      <td>X-TRA COMMUNICATION PTE. LTD.</td>\n",
       "      <td>Field Engineer, Information Technology (It)</td>\n",
       "      <td>Full Time</td>\n",
       "      <td>Non-executive</td>\n",
       "      <td>Information Technology</td>\n",
       "      <td>NaN</td>\n",
       "      <td>Performs monitoring of the Production/QA/DEV ...</td>\n",
       "      <td>Nitec/Diploma/Degree in IT (or equivalent exp...</td>\n",
       "    </tr>\n",
       "    <tr>\n",
       "      <th>909</th>\n",
       "      <td>1777</td>\n",
       "      <td>SCIENTE INTERNATIONAL PTE. LTD.</td>\n",
       "      <td>Business Analyst - Training &amp; Competency</td>\n",
       "      <td>Contract</td>\n",
       "      <td>Junior Executive</td>\n",
       "      <td>Others</td>\n",
       "      <td>NaN</td>\n",
       "      <td>A market leader in the Financial Services Indu...</td>\n",
       "      <td>Mandatory Skill-set  Degree in Business, Finan...</td>\n",
       "    </tr>\n",
       "    <tr>\n",
       "      <th>913</th>\n",
       "      <td>1784</td>\n",
       "      <td>ARCSTONE PTE. LTD.</td>\n",
       "      <td>Manufacturing Data Specialist</td>\n",
       "      <td>Full Time</td>\n",
       "      <td>Professional, Junior Executive, Senior Executive</td>\n",
       "      <td>Consulting , Engineering, Information Technolo...</td>\n",
       "      <td>NaN</td>\n",
       "      <td>Why Arcstone? Arcstone is a fast-growing start...</td>\n",
       "      <td>What are the requirements of the job?  BA/BS f...</td>\n",
       "    </tr>\n",
       "    <tr>\n",
       "      <th>928</th>\n",
       "      <td>1806</td>\n",
       "      <td>CUBEE PTE. LTD.</td>\n",
       "      <td>AI Engineer - Machine Learning</td>\n",
       "      <td>Full Time</td>\n",
       "      <td>Executive</td>\n",
       "      <td>Information Technology</td>\n",
       "      <td>NaN</td>\n",
       "      <td>Machine Learning / Deep Learning model traini...</td>\n",
       "      <td>Rich Python experience with numpy, pandas, te...</td>\n",
       "    </tr>\n",
       "    <tr>\n",
       "      <th>940</th>\n",
       "      <td>1831</td>\n",
       "      <td>ANOTECH ENERGY SINGAPORE PTE. LTD.</td>\n",
       "      <td>QA Automation Engineer C# / .Net Developer</td>\n",
       "      <td>Contract, Full Time</td>\n",
       "      <td>Executive</td>\n",
       "      <td>Information Technology</td>\n",
       "      <td>NaN</td>\n",
       "      <td>An exciting opportunity with one of our client...</td>\n",
       "      <td>Qualifications and Profile You have worked at ...</td>\n",
       "    </tr>\n",
       "    <tr>\n",
       "      <th>956</th>\n",
       "      <td>1856</td>\n",
       "      <td>SILENT EIGHT PTE. LTD.</td>\n",
       "      <td>Linux Engineer</td>\n",
       "      <td>Permanent</td>\n",
       "      <td>Senior Executive</td>\n",
       "      <td>Information Technology</td>\n",
       "      <td>NaN</td>\n",
       "      <td>Who we are We are an award-winning innovative ...</td>\n",
       "      <td>Requirements:  Minimum 4 years of experience i...</td>\n",
       "    </tr>\n",
       "    <tr>\n",
       "      <th>980</th>\n",
       "      <td>1900</td>\n",
       "      <td>ELIXIR TECHNOLOGY PTE LTD</td>\n",
       "      <td>IT Business Analyst</td>\n",
       "      <td>Permanent, Full Time</td>\n",
       "      <td>Professional</td>\n",
       "      <td>Consulting , Information Technology</td>\n",
       "      <td>NaN</td>\n",
       "      <td>Developing a clear understanding of all exist...</td>\n",
       "      <td>Bachelor’s Degree/Diploma in Software Develop...</td>\n",
       "    </tr>\n",
       "    <tr>\n",
       "      <th>988</th>\n",
       "      <td>1911</td>\n",
       "      <td>ANOTECH ENERGY SINGAPORE PTE. LTD.</td>\n",
       "      <td>Senior Business Analyst (Banking)</td>\n",
       "      <td>Contract, Full Time</td>\n",
       "      <td>Senior Executive</td>\n",
       "      <td>Information Technology</td>\n",
       "      <td>NaN</td>\n",
       "      <td>An exciting opportunity with one of our client...</td>\n",
       "      <td>Minimum 4 years of relevant Business Analysi...</td>\n",
       "    </tr>\n",
       "    <tr>\n",
       "      <th>996</th>\n",
       "      <td>1931</td>\n",
       "      <td>ANOTECH ENERGY SINGAPORE PTE. LTD.</td>\n",
       "      <td>IT Business Analyst  /  Project Manager KYC (B...</td>\n",
       "      <td>Contract, Full Time</td>\n",
       "      <td>Senior Executive</td>\n",
       "      <td>Information Technology</td>\n",
       "      <td>NaN</td>\n",
       "      <td>An exciting opportunity with one of our client...</td>\n",
       "      <td>Qualifications and Profile  8+ years in a busi...</td>\n",
       "    </tr>\n",
       "    <tr>\n",
       "      <th>998</th>\n",
       "      <td>1933</td>\n",
       "      <td>SCIENTE INTERNATIONAL PTE. LTD.</td>\n",
       "      <td>Senior Data Analyst</td>\n",
       "      <td>Contract</td>\n",
       "      <td>Senior Executive</td>\n",
       "      <td>Others</td>\n",
       "      <td>NaN</td>\n",
       "      <td>An exciting opportunity for analytics professi...</td>\n",
       "      <td>Mandatory Skill-set  Bachelor's Degree in IT, ...</td>\n",
       "    </tr>\n",
       "    <tr>\n",
       "      <th>1000</th>\n",
       "      <td>1935</td>\n",
       "      <td>BLUECHIP PLATFORMS ASIA PTE. LTD.</td>\n",
       "      <td>Risk Analyst – Global Metals and Mining Conglo...</td>\n",
       "      <td>Full Time</td>\n",
       "      <td>Senior Executive</td>\n",
       "      <td>Risk Management, Banking and Finance</td>\n",
       "      <td>NaN</td>\n",
       "      <td>• Growth Potential  • Exposure and PnL reporti...</td>\n",
       "      <td>**Apply here** https://www.bluechipcareers-asi...</td>\n",
       "    </tr>\n",
       "    <tr>\n",
       "      <th>1001</th>\n",
       "      <td>1938</td>\n",
       "      <td>DENODO TECHNOLOGIES PTE. LTD.</td>\n",
       "      <td>Data Engineer - SQL  /  Big Data  /  Java</td>\n",
       "      <td>Full Time</td>\n",
       "      <td>Professional</td>\n",
       "      <td>Engineering</td>\n",
       "      <td>NaN</td>\n",
       "      <td>Your Opportunity Denodo is always looking for ...</td>\n",
       "      <td>Qualifications Required Skills  BS or higher d...</td>\n",
       "    </tr>\n",
       "  </tbody>\n",
       "</table>\n",
       "</div>"
      ],
      "text/plain": [
       "      index                                          Company  \\\n",
       "16       36            CROWN EQUIPMENT (SINGAPORE) PTE. LTD.   \n",
       "20       43                BLUECHIP PLATFORMS ASIA PTE. LTD.   \n",
       "31       62                              Company Undisclosed   \n",
       "51      104               ANOTECH ENERGY SINGAPORE PTE. LTD.   \n",
       "63      127               RESORTS WORLD AT SENTOSA PTE. LTD.   \n",
       "77      153                                  SBS TRANSIT LTD   \n",
       "107     206             SURBANA JURONG CONSULTANTS PTE. LTD.   \n",
       "116     218                              Company Undisclosed   \n",
       "130     241                SINGAPORE HEALTH SERVICES PTE LTD   \n",
       "143     270                              Company Undisclosed   \n",
       "156     298                VIRTUSA SINGAPORE PRIVATE LIMITED   \n",
       "175     340                      BIOQUEST ADVISORY PTE. LTD.   \n",
       "195     370                BLUECHIP PLATFORMS ASIA PTE. LTD.   \n",
       "218     421              SINGAPORE LNG CORPORATION PTE. LTD.   \n",
       "235     446      OVERSEA-CHINESE BANKING CORPORATION LIMITED   \n",
       "243     459                BLUECHIP PLATFORMS ASIA PTE. LTD.   \n",
       "247     465                    ALPHABIT CONSULTING PTE. LTD.   \n",
       "292     537                         ISMART SYNERGY PTE. LTD.   \n",
       "295     544                BLUECHIP PLATFORMS ASIA PTE. LTD.   \n",
       "349     650                                  CUBEE PTE. LTD.   \n",
       "353     655                         BEATHCHAPMAN (PTE. LTD.)   \n",
       "367     680                  SCIENTE INTERNATIONAL PTE. LTD.   \n",
       "392     729                   TALENT SPOT GROUP PRIVATE LTD.   \n",
       "406     760                              Company Undisclosed   \n",
       "408     763  SERVICESOURCE INTERNATIONAL SINGAPORE PTE. LTD.   \n",
       "427     804            LINKSURE NETWORK HOLDING PTE. LIMITED   \n",
       "451     858               STRIDES PHARMA GLOBAL PTE. LIMITED   \n",
       "456     870                BLUECHIP PLATFORMS ASIA PTE. LTD.   \n",
       "495     942                                 XENDIT PTE. LTD.   \n",
       "509     968                     EXPLOIT TECHNOLOGIES PTE LTD   \n",
       "519     991                              Company Undisclosed   \n",
       "526    1012                           SILENT EIGHT PTE. LTD.   \n",
       "532    1025                    ALPHABIT CONSULTING PTE. LTD.   \n",
       "557    1071                     EPS COMPUTER SYSTEMS PTE LTD   \n",
       "589    1134             HYDROINFORMATICS INSTITUTE PTE. LTD.   \n",
       "665    1296                              Company Undisclosed   \n",
       "678    1320                   PEOPLEBANK SINGAPORE PTE. LTD.   \n",
       "723    1411                BLUECHIP PLATFORMS ASIA PTE. LTD.   \n",
       "764    1485                 NANYANG TECHNOLOGICAL UNIVERSITY   \n",
       "769    1499                            IZENO PRIVATE LIMITED   \n",
       "777    1512          FOX NETWORKS GROUP SINGAPORE  PTE. LTD.   \n",
       "830    1629                      KASISTO SINGAPORE PTE. LTD.   \n",
       "843    1650                    THE BANK OF EAST ASIA LIMITED   \n",
       "845    1653           UNILITE RECRUITMENT SERVICES PTE. LTD.   \n",
       "851    1663                              Company Undisclosed   \n",
       "855    1670                           HOOQ DIGITAL PTE. LTD.   \n",
       "888    1729                              Company Undisclosed   \n",
       "889    1733                    X-TRA COMMUNICATION PTE. LTD.   \n",
       "909    1777                  SCIENTE INTERNATIONAL PTE. LTD.   \n",
       "913    1784                               ARCSTONE PTE. LTD.   \n",
       "928    1806                                  CUBEE PTE. LTD.   \n",
       "940    1831               ANOTECH ENERGY SINGAPORE PTE. LTD.   \n",
       "956    1856                           SILENT EIGHT PTE. LTD.   \n",
       "980    1900                        ELIXIR TECHNOLOGY PTE LTD   \n",
       "988    1911               ANOTECH ENERGY SINGAPORE PTE. LTD.   \n",
       "996    1931               ANOTECH ENERGY SINGAPORE PTE. LTD.   \n",
       "998    1933                  SCIENTE INTERNATIONAL PTE. LTD.   \n",
       "1000   1935                BLUECHIP PLATFORMS ASIA PTE. LTD.   \n",
       "1001   1938                    DENODO TECHNOLOGIES PTE. LTD.   \n",
       "\n",
       "                                                  Title  \\\n",
       "16                        Key Account Data Analyst, SEA   \n",
       "20                        Market Risk Analyst Oil & Gas   \n",
       "31                                       Data Scientist   \n",
       "51                               Business Analyst (CIB)   \n",
       "63                 IT Business Analyst, Data Technology   \n",
       "77     Engineer, Rolling Stock (Engineering Train Unit)   \n",
       "107                  Human Resource System Data Analyst   \n",
       "116                                      Data Scientist   \n",
       "130                               Manager, Data Science   \n",
       "143    Senior Manager / Manager(Data policy & Research)   \n",
       "156                       Business Analyst with AI / ML   \n",
       "175                             IT Analyst (Consulting)   \n",
       "195   Investment Risk Analyst (Contract) - 3-6 month...   \n",
       "218                            Business Process Analyst   \n",
       "235   Business Analyst, Murex Specialist, Global Tre...   \n",
       "243         Senior Oil Markets Analyst – Energy trading   \n",
       "247                       Business Intelligence Analyst   \n",
       "292   Hiring Senior Data Scientist. Direct Applicant...   \n",
       "295                  Business Analyst - 1 year contract   \n",
       "349           AI Engineer – Natural Language Processing   \n",
       "353                                 Senior Data Analyst   \n",
       "367                            Data Scientist (JD#4567)   \n",
       "392        Snr Product Engineer (Power  /  Performance)   \n",
       "406                         Senior Engineer, Electrical   \n",
       "408          Inside Sales Business Intelligence Analyst   \n",
       "427                            Data Warehousing Analyst   \n",
       "451                                   Senior QC Analyst   \n",
       "456   Business Analyst (Secured Risk) - 1 year contract   \n",
       "495                                      Data Scientist   \n",
       "509                                   Software Engineer   \n",
       "519                               Senior Data Scientist   \n",
       "526                                      Data Scientist   \n",
       "532                                    Business Analyst   \n",
       "557                                 IT Business Analyst   \n",
       "589                                       Data Engineer   \n",
       "665   Business Analytics Manager, E-commerce (Google...   \n",
       "678                            Senior Financial Analyst   \n",
       "723   Lead Quantitative Risk Analyst – Commodity Tra...   \n",
       "764   Business Analyst, Student Management System (1...   \n",
       "769                             Senior Business Analyst   \n",
       "777     Data, Analytics & Marketing Technology Engineer   \n",
       "830                                   Software Engineer   \n",
       "843                          IT Infrastructure Engineer   \n",
       "845   HR Analyst, Reporting & Analytics-Contract (In...   \n",
       "851                                    Business Analyst   \n",
       "855                                       Data Engineer   \n",
       "888                       Businees Intelligence Analyst   \n",
       "889         Field Engineer, Information Technology (It)   \n",
       "909            Business Analyst - Training & Competency   \n",
       "913                       Manufacturing Data Specialist   \n",
       "928                      AI Engineer - Machine Learning   \n",
       "940          QA Automation Engineer C# / .Net Developer   \n",
       "956                                      Linux Engineer   \n",
       "980                                 IT Business Analyst   \n",
       "988                   Senior Business Analyst (Banking)   \n",
       "996   IT Business Analyst  /  Project Manager KYC (B...   \n",
       "998                                 Senior Data Analyst   \n",
       "1000  Risk Analyst – Global Metals and Mining Conglo...   \n",
       "1001          Data Engineer - SQL  /  Big Data  /  Java   \n",
       "\n",
       "                            Emp_type  \\\n",
       "16                         Full Time   \n",
       "20                         Full Time   \n",
       "31                         Full Time   \n",
       "51               Contract, Full Time   \n",
       "63                         Permanent   \n",
       "77              Permanent, Full Time   \n",
       "107             Permanent, Full Time   \n",
       "116             Permanent, Full Time   \n",
       "130                        Full Time   \n",
       "143                        Permanent   \n",
       "156                        Full Time   \n",
       "175             Permanent, Full Time   \n",
       "195                        Full Time   \n",
       "218             Permanent, Full Time   \n",
       "235                         Contract   \n",
       "243                        Full Time   \n",
       "247                        Permanent   \n",
       "292   Permanent, Contract, Full Time   \n",
       "295                        Full Time   \n",
       "349                        Full Time   \n",
       "353                        Permanent   \n",
       "367              Contract, Full Time   \n",
       "392                        Full Time   \n",
       "406                         Contract   \n",
       "408                        Full Time   \n",
       "427                        Permanent   \n",
       "451                        Full Time   \n",
       "456                        Full Time   \n",
       "495             Permanent, Full Time   \n",
       "509                        Full Time   \n",
       "519                        Full Time   \n",
       "526                        Full Time   \n",
       "532             Permanent, Full Time   \n",
       "557              Contract, Full Time   \n",
       "589                        Full Time   \n",
       "665                        Full Time   \n",
       "678                         Contract   \n",
       "723                        Full Time   \n",
       "764              Contract, Full Time   \n",
       "769                        Permanent   \n",
       "777                        Permanent   \n",
       "830                        Full Time   \n",
       "843                        Full Time   \n",
       "845              Contract, Full Time   \n",
       "851             Permanent, Full Time   \n",
       "855                        Permanent   \n",
       "888                         Contract   \n",
       "889                        Full Time   \n",
       "909                         Contract   \n",
       "913                        Full Time   \n",
       "928                        Full Time   \n",
       "940              Contract, Full Time   \n",
       "956                        Permanent   \n",
       "980             Permanent, Full Time   \n",
       "988              Contract, Full Time   \n",
       "996              Contract, Full Time   \n",
       "998                         Contract   \n",
       "1000                       Full Time   \n",
       "1001                       Full Time   \n",
       "\n",
       "                                             Seniority  \\\n",
       "16                                        Professional   \n",
       "20                                    Senior Executive   \n",
       "31                                        Professional   \n",
       "51                                           Executive   \n",
       "63                                             Manager   \n",
       "77                                           Executive   \n",
       "107                                          Executive   \n",
       "116                                       Professional   \n",
       "130                                            Manager   \n",
       "143                                            Manager   \n",
       "156                                       Professional   \n",
       "175                Fresh/entry level, Junior Executive   \n",
       "195                                          Executive   \n",
       "218                       Fresh/entry level, Executive   \n",
       "235                                          Executive   \n",
       "243                                       Professional   \n",
       "247                                   Junior Executive   \n",
       "292                    Senior Management, Professional   \n",
       "295                                   Senior Executive   \n",
       "349                                          Executive   \n",
       "353                                  Senior Management   \n",
       "367                                       Professional   \n",
       "392                                   Senior Executive   \n",
       "406                                          Executive   \n",
       "408                                       Professional   \n",
       "427                                   Junior Executive   \n",
       "451                                          Executive   \n",
       "456                                   Senior Executive   \n",
       "495                                   Senior Executive   \n",
       "509                                            Manager   \n",
       "519                                       Professional   \n",
       "526                                          Executive   \n",
       "532                                   Junior Executive   \n",
       "557                                          Executive   \n",
       "589                                          Executive   \n",
       "665                                            Manager   \n",
       "678                                  Senior Management   \n",
       "723                                   Senior Executive   \n",
       "764                                            Manager   \n",
       "769                                   Senior Executive   \n",
       "777                                            Manager   \n",
       "830                                      Non-executive   \n",
       "843                                            Manager   \n",
       "845               Manager, Executive, Senior Executive   \n",
       "851                                          Executive   \n",
       "855                                            Manager   \n",
       "888                                   Senior Executive   \n",
       "889                                      Non-executive   \n",
       "909                                   Junior Executive   \n",
       "913   Professional, Junior Executive, Senior Executive   \n",
       "928                                          Executive   \n",
       "940                                          Executive   \n",
       "956                                   Senior Executive   \n",
       "980                                       Professional   \n",
       "988                                   Senior Executive   \n",
       "996                                   Senior Executive   \n",
       "998                                   Senior Executive   \n",
       "1000                                  Senior Executive   \n",
       "1001                                      Professional   \n",
       "\n",
       "                                               Industry  Salary  \\\n",
       "16                                               Others     NaN   \n",
       "20                 Risk Management, Banking and Finance     NaN   \n",
       "31                               Information Technology     NaN   \n",
       "51                               Information Technology     NaN   \n",
       "63                               Information Technology     NaN   \n",
       "77                                          Engineering     NaN   \n",
       "107            Human Resources , Information Technology     NaN   \n",
       "116                              Information Technology     NaN   \n",
       "130                                              Others     NaN   \n",
       "143   Admin / Secretarial, Others, Public / Civil Se...     NaN   \n",
       "156                              Information Technology     NaN   \n",
       "175   Consulting , Information Technology, Professio...     NaN   \n",
       "195                Risk Management, Banking and Finance     NaN   \n",
       "218                      Information Technology, Others     NaN   \n",
       "235                                 Banking and Finance     NaN   \n",
       "243                                 Banking and Finance     NaN   \n",
       "247                                              Others     NaN   \n",
       "292                              Information Technology     NaN   \n",
       "295                                 Banking and Finance     NaN   \n",
       "349                              Information Technology     NaN   \n",
       "353                              Information Technology     NaN   \n",
       "367                                 Banking and Finance     NaN   \n",
       "392   Engineering, Information Technology, Manufactu...     NaN   \n",
       "406                                         Engineering     NaN   \n",
       "408                                              Others     NaN   \n",
       "427                              Information Technology     NaN   \n",
       "451   Healthcare / Pharmaceutical, Manufacturing, Sc...     NaN   \n",
       "456                                 Banking and Finance     NaN   \n",
       "495                              Information Technology     NaN   \n",
       "509                         Sciences / Laboratory / R&D     NaN   \n",
       "519                               Professional Services     NaN   \n",
       "526                              Information Technology     NaN   \n",
       "532                                              Others     NaN   \n",
       "557                              Information Technology     NaN   \n",
       "589                               Professional Services     NaN   \n",
       "665                       Marketing / Public Relations      NaN   \n",
       "678                                 Banking and Finance     NaN   \n",
       "723         Banking and Finance, Information Technology     NaN   \n",
       "764                              Information Technology     NaN   \n",
       "769   Consulting , Information Technology, Others, P...     NaN   \n",
       "777                              Information Technology     NaN   \n",
       "830         Banking and Finance, Information Technology     NaN   \n",
       "843                              Information Technology     NaN   \n",
       "845                                    Human Resources      NaN   \n",
       "851                                              Others     NaN   \n",
       "855                 Engineering, Information Technology     NaN   \n",
       "888                              Information Technology     NaN   \n",
       "889                              Information Technology     NaN   \n",
       "909                                              Others     NaN   \n",
       "913   Consulting , Engineering, Information Technolo...     NaN   \n",
       "928                              Information Technology     NaN   \n",
       "940                              Information Technology     NaN   \n",
       "956                              Information Technology     NaN   \n",
       "980                 Consulting , Information Technology     NaN   \n",
       "988                              Information Technology     NaN   \n",
       "996                              Information Technology     NaN   \n",
       "998                                              Others     NaN   \n",
       "1000               Risk Management, Banking and Finance     NaN   \n",
       "1001                                        Engineering     NaN   \n",
       "\n",
       "                                         Responsibility  \\\n",
       "16    Provide key data to ensure that our customer, ...   \n",
       "20    Our client is listed on the stock exchange in ...   \n",
       "31    ​Our Client is an established company in Singa...   \n",
       "51    An exciting opportunity with one of our client...   \n",
       "63     Gather, analyze and assess business requireme...   \n",
       "77     Responsible for managing, planning and execut...   \n",
       "107   Role Summary The incumbent must be a technical...   \n",
       "116   IN THIS POSITION YOU WILL:  Work closely with ...   \n",
       "130   The Office for Insights and Analytics spearhea...   \n",
       "143    Formulate and review policy positions, framew...   \n",
       "156   Roles and responsibilities:  Develop requireme...   \n",
       "175   Introducing our firm BioQuest Advisory is a Si...   \n",
       "195   Our client is a leading US based commodities f...   \n",
       "218   General Overview:   The successful candidate w...   \n",
       "235   Acting as a Business Coordinator and Cross-Fun...   \n",
       "243   - Across the barrel coverage (Crude, light end...   \n",
       "247    Extract actionable insights through analyzing...   \n",
       "292   To succeed in this role the candidate must pos...   \n",
       "295   Our client is a multinational banking and fina...   \n",
       "349    Using proper NLP algorithms to address busine...   \n",
       "353    New-Tech environment Senior position Financia...   \n",
       "367   An excellent opportunity to gain experience in...   \n",
       "392   As a Snr Product Engineer (Power / Performance...   \n",
       "406   Overall To independently define the concepts a...   \n",
       "408   Role Description: The Inside Sales BI Analyst ...   \n",
       "427    Design, build, optimize and support data tabl...   \n",
       "451   KEY DUTIES AND RESPONSIBILITES:  Perform analy...   \n",
       "456   Our client is a multinational banking and fina...   \n",
       "495   Data scientist Build & evolve Xendit’s data mo...   \n",
       "509   Job Description The software engineer shall  D...   \n",
       "519   Minimum of 4-5 years’ experience with the stan...   \n",
       "526   Who we are We are an award-winning innovative ...   \n",
       "532    Research and analyze blockchain based token m...   \n",
       "557   • 1-year contract with Completion Bonus Job Re...   \n",
       "589   Roles and Responsibilities:  Implement data wr...   \n",
       "665    Manages a team of business analysts executive...   \n",
       "678   Senior Financial Analyst  2 years contract Com...   \n",
       "723   • Highly ambitious, fast growing commodity tra...   \n",
       "764   The Business Analyst plays a critical role in ...   \n",
       "769    Collaboratively work with customers, project ...   \n",
       "777   The Role: We are looking for a DevOps Engineer...   \n",
       "830   Kasisto, a FinTech startup, is on a mission to...   \n",
       "843   You will be required to insall, design and adm...   \n",
       "845    Work collaboratively with leaders in the deve...   \n",
       "851   ABOUT ZILINGO: Zilingo is a fast-growing fashi...   \n",
       "855   We are looking for a Data Engineer to join our...   \n",
       "888   Requirements/Responsibilities:  Candidate must...   \n",
       "889    Performs monitoring of the Production/QA/DEV ...   \n",
       "909   A market leader in the Financial Services Indu...   \n",
       "913   Why Arcstone? Arcstone is a fast-growing start...   \n",
       "928    Machine Learning / Deep Learning model traini...   \n",
       "940   An exciting opportunity with one of our client...   \n",
       "956   Who we are We are an award-winning innovative ...   \n",
       "980    Developing a clear understanding of all exist...   \n",
       "988   An exciting opportunity with one of our client...   \n",
       "996   An exciting opportunity with one of our client...   \n",
       "998   An exciting opportunity for analytics professi...   \n",
       "1000  • Growth Potential  • Exposure and PnL reporti...   \n",
       "1001  Your Opportunity Denodo is always looking for ...   \n",
       "\n",
       "                                           Requirements  \n",
       "16    Knowledge, Skills & Experience - Excellent wri...  \n",
       "20    **Apply here** https://www.bluechipcareers-asi...  \n",
       "31     Ph.D. or Master’s Degree in operations resear...  \n",
       "51    Qualifications and Profile This position requi...  \n",
       "63     Degree in Computer Science, Engineering, Info...  \n",
       "77     Degree in Electrical & / or Electronics / Mec...  \n",
       "107   Requirements:  Possess at least a Diploma, Adv...  \n",
       "116   KEY REQUIREMENTS:  MS or PhD in Computer Scien...  \n",
       "130    PhD, Masters or Bachelors in quantitative dis...  \n",
       "143    Masters or good bachelor’s degree in any rele...  \n",
       "156   Requirements:  4 to 10+ years BA experience id...  \n",
       "175   Your profile  Diploma in Information Technolog...  \n",
       "195   **Apply here** https://www.bluechipcareers-asi...  \n",
       "218   Work Experience Requirements:   Up to 2 years’...  \n",
       "235   • Ideally degree in mathematical or financial ...  \n",
       "243   **Apply here** https://www.bluechipcareers-asi...  \n",
       "247    Min. Bachelor and above which major in Busine...  \n",
       "292   Key Requirements:  Experience producing and ra...  \n",
       "295   **Apply here** https://www.bluechipcareers-asi...  \n",
       "349    Rich NLP experience with python Knowledge of ...  \n",
       "353    Develop AI Algorithm, Deep Learning/Neural Ne...  \n",
       "367   Mandatory Skill-set  PHD / Masters/ Bachelors ...  \n",
       "392   Required Skills Sets  A recognized Degree in E...  \n",
       "406   ~6 to 7 years of relevant working experience i...  \n",
       "408   General Qualifications: Bachelor degree, prefe...  \n",
       "427    2+ years hands-on experience in data warehous...  \n",
       "451   Degree / Diploma in Science related discipline...  \n",
       "456   **Apply here** https://www.bluechipcareers-asi...  \n",
       "495   You may be a good fit if you  Have 5 years of ...  \n",
       "509   Job Specifications Qualification: Minimum bach...  \n",
       "519   Experience in relevant area of scientific disc...  \n",
       "526   Requirements:  Min. 2 years of relevant experi...  \n",
       "532    A strong interest in cryptocurrencies, invest...  \n",
       "557   Job Requirements: • Degree in IT / Computer Sc...  \n",
       "589    Masters or PhD in one of the mathematical sci...  \n",
       "665    Min. Bachelor Degree in Business or equivalen...  \n",
       "678   Your Background  First level university degree...  \n",
       "723   **Apply here** https://www.bluechipcareers-asi...  \n",
       "764   Requirements • Bachelor degree in Information ...  \n",
       "769    Bachelor Degree in Business Studies/Business ...  \n",
       "777   Must-haves  Minimum 3 years working knowledge ...  \n",
       "830   Bachelor's or Master's degree in Software Engi...  \n",
       "843   - universitydegree in computerscience or equiv...  \n",
       "845    Bachelor’s degree in HRM, IT or Computer Scie...  \n",
       "851   Professional expectations   Think critically a...  \n",
       "855   Desired Skills and Experience  Minimum 3 years...  \n",
       "888   Others:  5 day work week Located in Towm Salar...  \n",
       "889    Nitec/Diploma/Degree in IT (or equivalent exp...  \n",
       "909   Mandatory Skill-set  Degree in Business, Finan...  \n",
       "913   What are the requirements of the job?  BA/BS f...  \n",
       "928    Rich Python experience with numpy, pandas, te...  \n",
       "940   Qualifications and Profile You have worked at ...  \n",
       "956   Requirements:  Minimum 4 years of experience i...  \n",
       "980    Bachelor’s Degree/Diploma in Software Develop...  \n",
       "988     Minimum 4 years of relevant Business Analysi...  \n",
       "996   Qualifications and Profile  8+ years in a busi...  \n",
       "998   Mandatory Skill-set  Bachelor's Degree in IT, ...  \n",
       "1000  **Apply here** https://www.bluechipcareers-asi...  \n",
       "1001  Qualifications Required Skills  BS or higher d...  "
      ]
     },
     "execution_count": 45,
     "metadata": {},
     "output_type": "execute_result"
    }
   ],
   "source": [
    "jobs[jobs['Salary'].isnull()]"
   ]
  },
  {
   "cell_type": "code",
   "execution_count": 46,
   "metadata": {},
   "outputs": [
    {
     "data": {
      "text/plain": [
       "1900.0    1\n",
       "1950.0    1\n",
       "2400.0    1\n",
       "2500.0    1\n",
       "2650.0    1\n",
       "2700.0    1\n",
       "2750.0    2\n",
       "2800.0    1\n",
       "2900.0    2\n",
       "3000.0    5\n",
       "Name: Salary, dtype: int64"
      ]
     },
     "execution_count": 46,
     "metadata": {},
     "output_type": "execute_result"
    }
   ],
   "source": [
    "# take a look at lower end of the salaries\n",
    "jobs['Salary'].value_counts().sort_index().head(10)"
   ]
  },
  {
   "cell_type": "code",
   "execution_count": 47,
   "metadata": {},
   "outputs": [],
   "source": [
    "# <2000 seems a bit low. to investigate. suggest to drop salaries below <2000, not sure if its a short term contract"
   ]
  },
  {
   "cell_type": "code",
   "execution_count": 48,
   "metadata": {},
   "outputs": [
    {
     "data": {
      "text/html": [
       "<div>\n",
       "<style scoped>\n",
       "    .dataframe tbody tr th:only-of-type {\n",
       "        vertical-align: middle;\n",
       "    }\n",
       "\n",
       "    .dataframe tbody tr th {\n",
       "        vertical-align: top;\n",
       "    }\n",
       "\n",
       "    .dataframe thead th {\n",
       "        text-align: right;\n",
       "    }\n",
       "</style>\n",
       "<table border=\"1\" class=\"dataframe\">\n",
       "  <thead>\n",
       "    <tr style=\"text-align: right;\">\n",
       "      <th></th>\n",
       "      <th>index</th>\n",
       "      <th>Company</th>\n",
       "      <th>Title</th>\n",
       "      <th>Emp_type</th>\n",
       "      <th>Seniority</th>\n",
       "      <th>Industry</th>\n",
       "      <th>Salary</th>\n",
       "      <th>Responsibility</th>\n",
       "      <th>Requirements</th>\n",
       "    </tr>\n",
       "  </thead>\n",
       "  <tbody>\n",
       "    <tr>\n",
       "      <th>227</th>\n",
       "      <td>434</td>\n",
       "      <td>THE SUPREME HR ADVISORY PTE. LTD.</td>\n",
       "      <td>L1 Desktop Engineer - Scotts Road - OS Backup ...</td>\n",
       "      <td>Full Time</td>\n",
       "      <td>Senior Executive</td>\n",
       "      <td>Information Technology</td>\n",
       "      <td>1950.0</td>\n",
       "      <td>location: Scotts Road</td>\n",
       "      <td>MAIN ROLES AND RESPONSIBILITIES • OS Backup &amp; ...</td>\n",
       "    </tr>\n",
       "    <tr>\n",
       "      <th>770</th>\n",
       "      <td>1501</td>\n",
       "      <td>MACHSPEED HUMAN RESOURCES PTE. LTD.</td>\n",
       "      <td>Engineering Assistant-QA (S$1800-2000+OT, Day ...</td>\n",
       "      <td>Permanent</td>\n",
       "      <td>Non-executive</td>\n",
       "      <td>Engineering</td>\n",
       "      <td>1900.0</td>\n",
       "      <td>Engineering Assistant-QA (S$1800-2000+OT, Day ...</td>\n",
       "      <td>Requirements  Minimum Diploma in Mechanical, E...</td>\n",
       "    </tr>\n",
       "  </tbody>\n",
       "</table>\n",
       "</div>"
      ],
      "text/plain": [
       "     index                              Company  \\\n",
       "227    434    THE SUPREME HR ADVISORY PTE. LTD.   \n",
       "770   1501  MACHSPEED HUMAN RESOURCES PTE. LTD.   \n",
       "\n",
       "                                                 Title   Emp_type  \\\n",
       "227  L1 Desktop Engineer - Scotts Road - OS Backup ...  Full Time   \n",
       "770  Engineering Assistant-QA (S$1800-2000+OT, Day ...  Permanent   \n",
       "\n",
       "            Seniority                Industry  Salary  \\\n",
       "227  Senior Executive  Information Technology  1950.0   \n",
       "770     Non-executive             Engineering  1900.0   \n",
       "\n",
       "                                        Responsibility  \\\n",
       "227                             location: Scotts Road    \n",
       "770  Engineering Assistant-QA (S$1800-2000+OT, Day ...   \n",
       "\n",
       "                                          Requirements  \n",
       "227  MAIN ROLES AND RESPONSIBILITIES • OS Backup & ...  \n",
       "770  Requirements  Minimum Diploma in Mechanical, E...  "
      ]
     },
     "execution_count": 48,
     "metadata": {},
     "output_type": "execute_result"
    }
   ],
   "source": [
    "jobs[jobs['Salary']  <2000]"
   ]
  },
  {
   "cell_type": "code",
   "execution_count": 49,
   "metadata": {},
   "outputs": [],
   "source": [
    "# does not seem related to the data science field. suggest to drop"
   ]
  },
  {
   "cell_type": "code",
   "execution_count": 50,
   "metadata": {},
   "outputs": [],
   "source": [
    "jobs.drop([227,770], inplace=True)"
   ]
  },
  {
   "cell_type": "code",
   "execution_count": 51,
   "metadata": {},
   "outputs": [],
   "source": [
    "# tackle the null values now\n",
    "# to impute null values with medians, based on seniority"
   ]
  },
  {
   "cell_type": "code",
   "execution_count": 52,
   "metadata": {},
   "outputs": [],
   "source": [
    "# create a 'lookup table'\n",
    "median_sal = jobs.groupby('Seniority')['Salary'].median()\n",
    "median_sal_df = median_sal.to_frame()"
   ]
  },
  {
   "cell_type": "code",
   "execution_count": 53,
   "metadata": {},
   "outputs": [
    {
     "data": {
      "text/html": [
       "<div>\n",
       "<style scoped>\n",
       "    .dataframe tbody tr th:only-of-type {\n",
       "        vertical-align: middle;\n",
       "    }\n",
       "\n",
       "    .dataframe tbody tr th {\n",
       "        vertical-align: top;\n",
       "    }\n",
       "\n",
       "    .dataframe thead th {\n",
       "        text-align: right;\n",
       "    }\n",
       "</style>\n",
       "<table border=\"1\" class=\"dataframe\">\n",
       "  <thead>\n",
       "    <tr style=\"text-align: right;\">\n",
       "      <th></th>\n",
       "      <th>Salary</th>\n",
       "    </tr>\n",
       "    <tr>\n",
       "      <th>Seniority</th>\n",
       "      <th></th>\n",
       "    </tr>\n",
       "  </thead>\n",
       "  <tbody>\n",
       "    <tr>\n",
       "      <th>Executive</th>\n",
       "      <td>6000.0</td>\n",
       "    </tr>\n",
       "    <tr>\n",
       "      <th>Executive, Junior Executive</th>\n",
       "      <td>3375.0</td>\n",
       "    </tr>\n",
       "    <tr>\n",
       "      <th>Executive, Junior Executive, Senior Executive</th>\n",
       "      <td>5525.0</td>\n",
       "    </tr>\n",
       "    <tr>\n",
       "      <th>Executive, Non-executive</th>\n",
       "      <td>4400.0</td>\n",
       "    </tr>\n",
       "    <tr>\n",
       "      <th>Executive, Senior Executive</th>\n",
       "      <td>5250.0</td>\n",
       "    </tr>\n",
       "  </tbody>\n",
       "</table>\n",
       "</div>"
      ],
      "text/plain": [
       "                                               Salary\n",
       "Seniority                                            \n",
       "Executive                                      6000.0\n",
       "Executive, Junior Executive                    3375.0\n",
       "Executive, Junior Executive, Senior Executive  5525.0\n",
       "Executive, Non-executive                       4400.0\n",
       "Executive, Senior Executive                    5250.0"
      ]
     },
     "execution_count": 53,
     "metadata": {},
     "output_type": "execute_result"
    }
   ],
   "source": [
    "median_sal_df.head()"
   ]
  },
  {
   "cell_type": "code",
   "execution_count": 54,
   "metadata": {},
   "outputs": [],
   "source": [
    "jobs.loc[jobs['Salary'].isnull(),'Salary'] = jobs['Seniority'].map(median_sal_df['Salary'])\n"
   ]
  },
  {
   "cell_type": "code",
   "execution_count": 55,
   "metadata": {},
   "outputs": [
    {
     "data": {
      "text/plain": [
       "1"
      ]
     },
     "execution_count": 55,
     "metadata": {},
     "output_type": "execute_result"
    }
   ],
   "source": [
    "jobs.isnull().sum().sum()"
   ]
  },
  {
   "cell_type": "code",
   "execution_count": 56,
   "metadata": {},
   "outputs": [
    {
     "data": {
      "text/html": [
       "<div>\n",
       "<style scoped>\n",
       "    .dataframe tbody tr th:only-of-type {\n",
       "        vertical-align: middle;\n",
       "    }\n",
       "\n",
       "    .dataframe tbody tr th {\n",
       "        vertical-align: top;\n",
       "    }\n",
       "\n",
       "    .dataframe thead th {\n",
       "        text-align: right;\n",
       "    }\n",
       "</style>\n",
       "<table border=\"1\" class=\"dataframe\">\n",
       "  <thead>\n",
       "    <tr style=\"text-align: right;\">\n",
       "      <th></th>\n",
       "      <th>index</th>\n",
       "      <th>Company</th>\n",
       "      <th>Title</th>\n",
       "      <th>Emp_type</th>\n",
       "      <th>Seniority</th>\n",
       "      <th>Industry</th>\n",
       "      <th>Salary</th>\n",
       "      <th>Responsibility</th>\n",
       "      <th>Requirements</th>\n",
       "    </tr>\n",
       "  </thead>\n",
       "  <tbody>\n",
       "    <tr>\n",
       "      <th>913</th>\n",
       "      <td>1784</td>\n",
       "      <td>ARCSTONE PTE. LTD.</td>\n",
       "      <td>Manufacturing Data Specialist</td>\n",
       "      <td>Full Time</td>\n",
       "      <td>Professional, Junior Executive, Senior Executive</td>\n",
       "      <td>Consulting , Engineering, Information Technolo...</td>\n",
       "      <td>NaN</td>\n",
       "      <td>Why Arcstone? Arcstone is a fast-growing start...</td>\n",
       "      <td>What are the requirements of the job?  BA/BS f...</td>\n",
       "    </tr>\n",
       "  </tbody>\n",
       "</table>\n",
       "</div>"
      ],
      "text/plain": [
       "     index             Company                          Title   Emp_type  \\\n",
       "913   1784  ARCSTONE PTE. LTD.  Manufacturing Data Specialist  Full Time   \n",
       "\n",
       "                                            Seniority  \\\n",
       "913  Professional, Junior Executive, Senior Executive   \n",
       "\n",
       "                                              Industry  Salary  \\\n",
       "913  Consulting , Engineering, Information Technolo...     NaN   \n",
       "\n",
       "                                        Responsibility  \\\n",
       "913  Why Arcstone? Arcstone is a fast-growing start...   \n",
       "\n",
       "                                          Requirements  \n",
       "913  What are the requirements of the job?  BA/BS f...  "
      ]
     },
     "execution_count": 56,
     "metadata": {},
     "output_type": "execute_result"
    }
   ],
   "source": [
    "# pull out remaining\n",
    "jobs[jobs['Salary'].isnull()]"
   ]
  },
  {
   "cell_type": "code",
   "execution_count": 57,
   "metadata": {},
   "outputs": [],
   "source": [
    "# to drop remaining null record\n",
    "jobs.drop(913, inplace=True)"
   ]
  },
  {
   "cell_type": "code",
   "execution_count": 58,
   "metadata": {},
   "outputs": [],
   "source": [
    "# for modelling purposes, split into salary bands (high vs low)"
   ]
  },
  {
   "cell_type": "code",
   "execution_count": 59,
   "metadata": {},
   "outputs": [
    {
     "data": {
      "text/plain": [
       "count     1001.000000\n",
       "mean      7062.434732\n",
       "std       2468.510759\n",
       "min       2400.000000\n",
       "25%       5500.000000\n",
       "50%       6750.000000\n",
       "75%       8400.000000\n",
       "max      25000.000000\n",
       "Name: Salary, dtype: float64"
      ]
     },
     "execution_count": 59,
     "metadata": {},
     "output_type": "execute_result"
    }
   ],
   "source": [
    "jobs['Salary'].describe()"
   ]
  },
  {
   "cell_type": "code",
   "execution_count": 60,
   "metadata": {},
   "outputs": [
    {
     "data": {
      "text/plain": [
       "6750.0"
      ]
     },
     "execution_count": 60,
     "metadata": {},
     "output_type": "execute_result"
    }
   ],
   "source": [
    "jobs['Salary'].median()"
   ]
  },
  {
   "cell_type": "markdown",
   "metadata": {},
   "source": [
    "Performed some research to determined Singapore's average salary, to find the benchmark to split our data into higher and lower bands. Research is for entry level. \n",
    "\n",
    "https://www.payscale.com/research/SG/Job=Data_Scientist/Salary/5e2beebd/Entry-Level-Singapore\n",
    "\n",
    "Average salary = 5802/mth \n",
    "\n",
    "Therefore, as our data has senior positions, the median does not seem too far off from research data. Hence, to divide the salaries using the median.\n",
    "\n",
    "Higher = >6750/mth\n",
    "\n",
    "Lower = <6750/mth"
   ]
  },
  {
   "cell_type": "code",
   "execution_count": 61,
   "metadata": {},
   "outputs": [],
   "source": [
    "# splitting into higher and lower bands\n",
    "jobs['sal_band'] = jobs['Salary'].apply(lambda x: 'lower band' if x <= 6750  else 'higher band')"
   ]
  },
  {
   "cell_type": "code",
   "execution_count": 62,
   "metadata": {},
   "outputs": [
    {
     "data": {
      "text/plain": [
       "lower band     561\n",
       "higher band    440\n",
       "Name: sal_band, dtype: int64"
      ]
     },
     "execution_count": 62,
     "metadata": {},
     "output_type": "execute_result"
    }
   ],
   "source": [
    "jobs['sal_band'].value_counts()"
   ]
  },
  {
   "cell_type": "markdown",
   "metadata": {},
   "source": [
    "#### Visualizing our cleaned data"
   ]
  },
  {
   "cell_type": "code",
   "execution_count": 63,
   "metadata": {},
   "outputs": [
    {
     "name": "stderr",
     "output_type": "stream",
     "text": [
      "/anaconda3/lib/python3.6/site-packages/scipy/stats/stats.py:1713: FutureWarning: Using a non-tuple sequence for multidimensional indexing is deprecated; use `arr[tuple(seq)]` instead of `arr[seq]`. In the future this will be interpreted as an array index, `arr[np.array(seq)]`, which will result either in an error or a different result.\n",
      "  return np.add.reduce(sorted[indexer] * weights, axis=axis) / sumval\n",
      "/anaconda3/lib/python3.6/site-packages/matplotlib/axes/_axes.py:6462: UserWarning: The 'normed' kwarg is deprecated, and has been replaced by the 'density' kwarg.\n",
      "  warnings.warn(\"The 'normed' kwarg is deprecated, and has been \"\n"
     ]
    },
    {
     "data": {
      "text/plain": [
       "<matplotlib.axes._subplots.AxesSubplot at 0x1a2689bdd8>"
      ]
     },
     "execution_count": 63,
     "metadata": {},
     "output_type": "execute_result"
    },
    {
     "data": {
      "image/png": "[encoded data removed]",
      "text/plain": [
       "<Figure size 432x288 with 1 Axes>"
      ]
     },
     "metadata": {},
     "output_type": "display_data"
    }
   ],
   "source": [
    "sns.distplot(jobs['Salary'])"
   ]
  },
  {
   "cell_type": "code",
   "execution_count": 64,
   "metadata": {},
   "outputs": [
    {
     "data": {
      "text/plain": [
       "<matplotlib.axes._subplots.AxesSubplot at 0x1a269daeb8>"
      ]
     },
     "execution_count": 64,
     "metadata": {},
     "output_type": "execute_result"
    },
    {
     "data": {
      "image/png": "[encoded data removed]",
      "text/plain": [
       "<Figure size 432x288 with 1 Axes>"
      ]
     },
     "metadata": {},
     "output_type": "display_data"
    }
   ],
   "source": [
    "sns.countplot(y='Emp_type', hue='sal_band', data=jobs)"
   ]
  },
  {
   "cell_type": "markdown",
   "metadata": {},
   "source": [
    "#### Creating dummies for salary band column"
   ]
  },
  {
   "cell_type": "code",
   "execution_count": 65,
   "metadata": {},
   "outputs": [],
   "source": [
    "dummies = pd.get_dummies(jobs['sal_band'])"
   ]
  },
  {
   "cell_type": "code",
   "execution_count": 66,
   "metadata": {},
   "outputs": [
    {
     "data": {
      "text/html": [
       "<div>\n",
       "<style scoped>\n",
       "    .dataframe tbody tr th:only-of-type {\n",
       "        vertical-align: middle;\n",
       "    }\n",
       "\n",
       "    .dataframe tbody tr th {\n",
       "        vertical-align: top;\n",
       "    }\n",
       "\n",
       "    .dataframe thead th {\n",
       "        text-align: right;\n",
       "    }\n",
       "</style>\n",
       "<table border=\"1\" class=\"dataframe\">\n",
       "  <thead>\n",
       "    <tr style=\"text-align: right;\">\n",
       "      <th></th>\n",
       "      <th>higher band</th>\n",
       "      <th>lower band</th>\n",
       "    </tr>\n",
       "  </thead>\n",
       "  <tbody>\n",
       "    <tr>\n",
       "      <th>0</th>\n",
       "      <td>0</td>\n",
       "      <td>1</td>\n",
       "    </tr>\n",
       "    <tr>\n",
       "      <th>1</th>\n",
       "      <td>0</td>\n",
       "      <td>1</td>\n",
       "    </tr>\n",
       "    <tr>\n",
       "      <th>2</th>\n",
       "      <td>1</td>\n",
       "      <td>0</td>\n",
       "    </tr>\n",
       "    <tr>\n",
       "      <th>3</th>\n",
       "      <td>1</td>\n",
       "      <td>0</td>\n",
       "    </tr>\n",
       "    <tr>\n",
       "      <th>4</th>\n",
       "      <td>0</td>\n",
       "      <td>1</td>\n",
       "    </tr>\n",
       "  </tbody>\n",
       "</table>\n",
       "</div>"
      ],
      "text/plain": [
       "   higher band  lower band\n",
       "0            0           1\n",
       "1            0           1\n",
       "2            1           0\n",
       "3            1           0\n",
       "4            0           1"
      ]
     },
     "execution_count": 66,
     "metadata": {},
     "output_type": "execute_result"
    }
   ],
   "source": [
    "dummies.head()"
   ]
  },
  {
   "cell_type": "code",
   "execution_count": 67,
   "metadata": {},
   "outputs": [],
   "source": [
    "# append higher band column to jobs df\n",
    "jobs['higher band'] = dummies['higher band']"
   ]
  },
  {
   "cell_type": "code",
   "execution_count": 68,
   "metadata": {},
   "outputs": [
    {
     "data": {
      "text/html": [
       "<div>\n",
       "<style scoped>\n",
       "    .dataframe tbody tr th:only-of-type {\n",
       "        vertical-align: middle;\n",
       "    }\n",
       "\n",
       "    .dataframe tbody tr th {\n",
       "        vertical-align: top;\n",
       "    }\n",
       "\n",
       "    .dataframe thead th {\n",
       "        text-align: right;\n",
       "    }\n",
       "</style>\n",
       "<table border=\"1\" class=\"dataframe\">\n",
       "  <thead>\n",
       "    <tr style=\"text-align: right;\">\n",
       "      <th></th>\n",
       "      <th>index</th>\n",
       "      <th>Company</th>\n",
       "      <th>Title</th>\n",
       "      <th>Emp_type</th>\n",
       "      <th>Seniority</th>\n",
       "      <th>Industry</th>\n",
       "      <th>Salary</th>\n",
       "      <th>Responsibility</th>\n",
       "      <th>Requirements</th>\n",
       "      <th>sal_band</th>\n",
       "      <th>higher band</th>\n",
       "    </tr>\n",
       "  </thead>\n",
       "  <tbody>\n",
       "    <tr>\n",
       "      <th>0</th>\n",
       "      <td>1</td>\n",
       "      <td>NTUC ENTERPRISE CO-OPERATIVE LTD</td>\n",
       "      <td>Intern  /  Associate Engineer (iOS)</td>\n",
       "      <td>Full Time</td>\n",
       "      <td>Professional</td>\n",
       "      <td>Information Technology</td>\n",
       "      <td>6500.0</td>\n",
       "      <td>NTUC Enterprise is part of NTUC’s Group of Soc...</td>\n",
       "      <td>Requirements · 3 years of experience in iOS. ·...</td>\n",
       "      <td>lower band</td>\n",
       "      <td>0</td>\n",
       "    </tr>\n",
       "    <tr>\n",
       "      <th>1</th>\n",
       "      <td>2</td>\n",
       "      <td>ACTIVANTS PTE LTD</td>\n",
       "      <td>Business Analyst</td>\n",
       "      <td>Permanent</td>\n",
       "      <td>Professional, Senior Executive</td>\n",
       "      <td>Information Technology</td>\n",
       "      <td>4000.0</td>\n",
       "      <td>· Analyse and synthesize information provided ...</td>\n",
       "      <td>You are required to have an attitude of conti...</td>\n",
       "      <td>lower band</td>\n",
       "      <td>0</td>\n",
       "    </tr>\n",
       "    <tr>\n",
       "      <th>2</th>\n",
       "      <td>3</td>\n",
       "      <td>CLOUDSTREAM ASIA PACIFIC PTE. LTD.</td>\n",
       "      <td>Data Scientist</td>\n",
       "      <td>Full Time</td>\n",
       "      <td>Middle Management</td>\n",
       "      <td>Information Technology</td>\n",
       "      <td>9000.0</td>\n",
       "      <td>· M.S. or Ph.D. in Research, Computer Science...</td>\n",
       "      <td>BASIC QUALIFICATIONS · M.S. or Ph.D. in Resear...</td>\n",
       "      <td>higher band</td>\n",
       "      <td>1</td>\n",
       "    </tr>\n",
       "    <tr>\n",
       "      <th>3</th>\n",
       "      <td>5</td>\n",
       "      <td>JPMORGAN CHASE BANK, N.A.</td>\n",
       "      <td>Site Reliability Engineer (SRE) Lead, Global T...</td>\n",
       "      <td>Permanent, Full Time</td>\n",
       "      <td>Senior Executive</td>\n",
       "      <td>Information Technology</td>\n",
       "      <td>11250.0</td>\n",
       "      <td>JPMorgan Chase &amp; Co. (NYSE: JPM) is a leading ...</td>\n",
       "      <td>This role requires a wide variety of strengths...</td>\n",
       "      <td>higher band</td>\n",
       "      <td>1</td>\n",
       "    </tr>\n",
       "    <tr>\n",
       "      <th>4</th>\n",
       "      <td>7</td>\n",
       "      <td>TECHNOLOGY CENTRE FOR OFFSHORE AND MARINE, SIN...</td>\n",
       "      <td>Scientist (WP2&amp;3), TCOMS</td>\n",
       "      <td>Contract, Full Time</td>\n",
       "      <td>Non-executive</td>\n",
       "      <td>Sciences / Laboratory / R&amp;D</td>\n",
       "      <td>6750.0</td>\n",
       "      <td>About Technology Centre for Offshore and Marin...</td>\n",
       "      <td>A Masters/Ph.D. from reputable universities i...</td>\n",
       "      <td>lower band</td>\n",
       "      <td>0</td>\n",
       "    </tr>\n",
       "  </tbody>\n",
       "</table>\n",
       "</div>"
      ],
      "text/plain": [
       "   index                                            Company  \\\n",
       "0      1                   NTUC ENTERPRISE CO-OPERATIVE LTD   \n",
       "1      2                                  ACTIVANTS PTE LTD   \n",
       "2      3                 CLOUDSTREAM ASIA PACIFIC PTE. LTD.   \n",
       "3      5                          JPMORGAN CHASE BANK, N.A.   \n",
       "4      7  TECHNOLOGY CENTRE FOR OFFSHORE AND MARINE, SIN...   \n",
       "\n",
       "                                               Title              Emp_type  \\\n",
       "0                Intern  /  Associate Engineer (iOS)             Full Time   \n",
       "1                                   Business Analyst             Permanent   \n",
       "2                                     Data Scientist             Full Time   \n",
       "3  Site Reliability Engineer (SRE) Lead, Global T...  Permanent, Full Time   \n",
       "4                           Scientist (WP2&3), TCOMS   Contract, Full Time   \n",
       "\n",
       "                        Seniority                     Industry   Salary  \\\n",
       "0                    Professional       Information Technology   6500.0   \n",
       "1  Professional, Senior Executive       Information Technology   4000.0   \n",
       "2               Middle Management       Information Technology   9000.0   \n",
       "3                Senior Executive       Information Technology  11250.0   \n",
       "4                   Non-executive  Sciences / Laboratory / R&D   6750.0   \n",
       "\n",
       "                                      Responsibility  \\\n",
       "0  NTUC Enterprise is part of NTUC’s Group of Soc...   \n",
       "1  · Analyse and synthesize information provided ...   \n",
       "2   · M.S. or Ph.D. in Research, Computer Science...   \n",
       "3  JPMorgan Chase & Co. (NYSE: JPM) is a leading ...   \n",
       "4  About Technology Centre for Offshore and Marin...   \n",
       "\n",
       "                                        Requirements     sal_band  higher band  \n",
       "0  Requirements · 3 years of experience in iOS. ·...   lower band            0  \n",
       "1   You are required to have an attitude of conti...   lower band            0  \n",
       "2  BASIC QUALIFICATIONS · M.S. or Ph.D. in Resear...  higher band            1  \n",
       "3  This role requires a wide variety of strengths...  higher band            1  \n",
       "4   A Masters/Ph.D. from reputable universities i...   lower band            0  "
      ]
     },
     "execution_count": 68,
     "metadata": {},
     "output_type": "execute_result"
    }
   ],
   "source": [
    "# check\n",
    "jobs.head()"
   ]
  },
  {
   "cell_type": "code",
   "execution_count": 69,
   "metadata": {},
   "outputs": [],
   "source": [
    "# drop sal band column\n",
    "jobs.drop('sal_band', axis=1, inplace=True)"
   ]
  },
  {
   "cell_type": "code",
   "execution_count": 70,
   "metadata": {},
   "outputs": [
    {
     "data": {
      "text/plain": [
       "index               int64\n",
       "Company            object\n",
       "Title              object\n",
       "Emp_type           object\n",
       "Seniority          object\n",
       "Industry           object\n",
       "Salary            float64\n",
       "Responsibility     object\n",
       "Requirements       object\n",
       "higher band         uint8\n",
       "dtype: object"
      ]
     },
     "execution_count": 70,
     "metadata": {},
     "output_type": "execute_result"
    }
   ],
   "source": [
    "jobs.dtypes"
   ]
  },
  {
   "cell_type": "markdown",
   "metadata": {},
   "source": [
    "### Prepare data for nlp for feature selection\n",
    "\n",
    "i. Title\n",
    "\n",
    "ii. Seniority\n",
    "\n",
    "iii. Responsibilities\n",
    "\n",
    "iv. Requirements"
   ]
  },
  {
   "cell_type": "code",
   "execution_count": 71,
   "metadata": {},
   "outputs": [
    {
     "name": "stderr",
     "output_type": "stream",
     "text": [
      "/anaconda3/lib/python3.6/site-packages/sklearn/ensemble/weight_boosting.py:29: DeprecationWarning: numpy.core.umath_tests is an internal NumPy module and should not be imported. It will be removed in a future NumPy release.\n",
      "  from numpy.core.umath_tests import inner1d\n"
     ]
    }
   ],
   "source": [
    "from sklearn.model_selection import cross_val_score, train_test_split\n",
    "from sklearn.preprocessing import label_binarize\n",
    "from sklearn.linear_model import LogisticRegression, SGDClassifier\n",
    "from sklearn.pipeline import Pipeline, make_pipeline\n",
    "from itertools import cycle\n",
    "from xgboost import XGBClassifier\n",
    "from sklearn.feature_extraction.text import CountVectorizer, TfidfVectorizer\n",
    "from sklearn.ensemble import RandomForestClassifier, GradientBoostingClassifier, AdaBoostClassifier\n",
    "from sklearn.model_selection import GridSearchCV\n",
    "from sklearn.neighbors import KNeighborsClassifier\n",
    "from nltk.stem import PorterStemmer, WordNetLemmatizer\n",
    "from sklearn.metrics import confusion_matrix, classification_report, roc_curve, auc, accuracy_score\n",
    "from sklearn.svm import SVC\n",
    "import string\n",
    "from nltk.corpus import stopwords\n",
    "from sklearn.feature_extraction import stop_words\n",
    "from sklearn.naive_bayes import MultinomialNB\n",
    "import re"
   ]
  },
  {
   "cell_type": "code",
   "execution_count": 72,
   "metadata": {},
   "outputs": [],
   "source": [
    "# combining all the job information into 1 column for NLP\n",
    "jobs['all']= jobs['Company'] + ' ' + jobs['Title'] + ' ' + jobs['Emp_type'] + ' ' + jobs['Seniority'] + ' ' + jobs['Industry'] + ' ' + jobs['Responsibility'] + ' ' + jobs['Requirements']\n"
   ]
  },
  {
   "cell_type": "code",
   "execution_count": 73,
   "metadata": {},
   "outputs": [],
   "source": [
    "# check if need to add additional words into stopwords"
   ]
  },
  {
   "cell_type": "code",
   "execution_count": 74,
   "metadata": {},
   "outputs": [],
   "source": [
    "# need to stem/lemmatize? hmm..."
   ]
  },
  {
   "cell_type": "code",
   "execution_count": 75,
   "metadata": {},
   "outputs": [],
   "source": [
    "# try with all features first\n",
    "y = jobs['higher band']\n",
    "X = jobs['all']"
   ]
  },
  {
   "cell_type": "code",
   "execution_count": 76,
   "metadata": {},
   "outputs": [],
   "source": [
    "# split data\n",
    "X_train, X_test, y_train, y_test = train_test_split(X, y, test_size=0.25, random_state=42)\n"
   ]
  },
  {
   "cell_type": "code",
   "execution_count": 77,
   "metadata": {},
   "outputs": [
    {
     "data": {
      "text/plain": [
       "(750,)"
      ]
     },
     "execution_count": 77,
     "metadata": {},
     "output_type": "execute_result"
    }
   ],
   "source": [
    "X_train.shape"
   ]
  },
  {
   "cell_type": "markdown",
   "metadata": {},
   "source": [
    "### Modelling (Round 1)"
   ]
  },
  {
   "cell_type": "code",
   "execution_count": 125,
   "metadata": {},
   "outputs": [
    {
     "name": "stdout",
     "output_type": "stream",
     "text": [
      "(750, 89007)\n"
     ]
    }
   ],
   "source": [
    "# CountVectorizer\n",
    "vect = CountVectorizer(stop_words='english', ngram_range=(1, 2))\n",
    "X_train_dtm = vect.fit_transform(X_train)\n",
    "X_test_dtm = vect.transform(X_test)\n",
    "\n",
    "print(X_train_dtm.shape)"
   ]
  },
  {
   "cell_type": "markdown",
   "metadata": {},
   "source": [
    "#### Model_1: KNN"
   ]
  },
  {
   "cell_type": "code",
   "execution_count": 126,
   "metadata": {},
   "outputs": [
    {
     "name": "stdout",
     "output_type": "stream",
     "text": [
      "Cross Val Score:  0.5772913166511104\n",
      "Score:  0.601593625498008 \n",
      "\n",
      "Classification Report: \n",
      "              precision    recall  f1-score   support\n",
      "\n",
      "          0       0.66      0.63      0.64       143\n",
      "          1       0.54      0.56      0.55       108\n",
      "\n",
      "avg / total       0.60      0.60      0.60       251\n",
      "\n"
     ]
    }
   ],
   "source": [
    "# try KNN \n",
    "knn = KNeighborsClassifier()\n",
    "cross_val_knn = cross_val_score(knn, X_train_dtm, y_train, cv=5)\n",
    "\n",
    "print ('Cross Val Score: ', np.mean(cross_val_knn))\n",
    "\n",
    "\n",
    "knn.fit(X_train_dtm, y_train)\n",
    "\n",
    "pred_knn = knn.predict(X_test_dtm)\n",
    "print ('Score: ', knn.score(X_test_dtm, y_test), '\\n')\n",
    "print ('Classification Report: \\n', classification_report(y_test, pred_knn))"
   ]
  },
  {
   "cell_type": "markdown",
   "metadata": {},
   "source": [
    "#### Model_2: Logistic Regression"
   ]
  },
  {
   "cell_type": "code",
   "execution_count": 127,
   "metadata": {},
   "outputs": [
    {
     "name": "stdout",
     "output_type": "stream",
     "text": [
      "Cross Val Score:  0.746667318547491\n",
      "Score: 0.7131474103585658\n",
      "Classification Report: \n",
      "              precision    recall  f1-score   support\n",
      "\n",
      "          0       0.74      0.76      0.75       143\n",
      "          1       0.67      0.66      0.66       108\n",
      "\n",
      "avg / total       0.71      0.71      0.71       251\n",
      "\n"
     ]
    }
   ],
   "source": [
    "from sklearn.linear_model import LogisticRegression\n",
    "\n",
    "logreg = LogisticRegression()\n",
    "logreg.fit(X_train_dtm, y_train)\n",
    "cross_val_logreg = cross_val_score(logreg, X_train_dtm, y_train, cv=5)\n",
    "print ('Cross Val Score: ', np.mean(cross_val_logreg))\n",
    "\n",
    "pred_logreg = pd.DataFrame(logreg.predict(X_test_dtm))  \n",
    "probs = pd.DataFrame(logreg.predict_proba(X_test_dtm))\n",
    "print(\"Score:\", logreg.score(X_test_dtm, y_test))\n",
    "print('Classification Report: \\n', classification_report(y_test, pred_logreg))\n"
   ]
  },
  {
   "cell_type": "markdown",
   "metadata": {},
   "source": [
    "#### Model_3: Random Forest"
   ]
  },
  {
   "cell_type": "code",
   "execution_count": 128,
   "metadata": {},
   "outputs": [
    {
     "name": "stdout",
     "output_type": "stream",
     "text": [
      "Score: 0.6972111553784861\n",
      "             precision    recall  f1-score   support\n",
      "\n",
      "          0       0.68      0.89      0.77       143\n",
      "          1       0.75      0.44      0.56       108\n",
      "\n",
      "avg / total       0.71      0.70      0.68       251\n",
      "\n"
     ]
    }
   ],
   "source": [
    "from sklearn.ensemble import RandomForestClassifier \n",
    "\n",
    "rf = RandomForestClassifier()  \n",
    "\n",
    "rfm = rf.fit(X_train_dtm, y_train)  \n",
    "\n",
    "pred_rf = pd.DataFrame(rfm.predict(X_test_dtm))  \n",
    "probs = pd.DataFrame(rfm.predict_proba(X_test_dtm))\n",
    "\n",
    "rf_accuracy = accuracy_score(y_test, pred_rf)  \n",
    "print(\"Score:\",rf_accuracy)\n",
    "print(classification_report(y_test, pred_rf))"
   ]
  },
  {
   "cell_type": "markdown",
   "metadata": {},
   "source": [
    "#### Findings so far:\n",
    "    \n",
    "Logistic regression giving the highest score so far. \n",
    "However, model was performed without feature selection.\n",
    "To perform experiment with some of the features and perform modelling again to see if there is any improvement.\n",
    "As the responsibility and requirements columns have the most information, and intuitively should be the most useful features, to try round 2 of modelling with these 2 columns."
   ]
  },
  {
   "cell_type": "markdown",
   "metadata": {},
   "source": [
    "### Modelling (Round 2)"
   ]
  },
  {
   "cell_type": "code",
   "execution_count": 129,
   "metadata": {},
   "outputs": [],
   "source": [
    "# join into one \n",
    "jobs['all2'] = jobs['Responsibility'] + ' ' + jobs ['Requirements']"
   ]
  },
  {
   "cell_type": "code",
   "execution_count": 130,
   "metadata": {},
   "outputs": [],
   "source": [
    "y2 = jobs['higher band']\n",
    "X2 = jobs['all2']"
   ]
  },
  {
   "cell_type": "code",
   "execution_count": 131,
   "metadata": {},
   "outputs": [],
   "source": [
    "# split data\n",
    "X2_train, X2_test, y2_train, y2_test = train_test_split(X2, y2, test_size=0.25, random_state=42)"
   ]
  },
  {
   "cell_type": "code",
   "execution_count": 132,
   "metadata": {},
   "outputs": [
    {
     "name": "stdout",
     "output_type": "stream",
     "text": [
      "(750, 89698)\n"
     ]
    }
   ],
   "source": [
    "# CountVectorizer\n",
    "vect = CountVectorizer(ngram_range=(1, 2))\n",
    "X2_train_dtm = vect.fit_transform(X2_train)\n",
    "X2_test_dtm = vect.transform(X2_test)\n",
    "\n",
    "print(X2_train_dtm.shape)"
   ]
  },
  {
   "cell_type": "markdown",
   "metadata": {},
   "source": [
    "#### Model_1: KNN"
   ]
  },
  {
   "cell_type": "code",
   "execution_count": 133,
   "metadata": {},
   "outputs": [
    {
     "name": "stdout",
     "output_type": "stream",
     "text": [
      "Cross Val Score:  0.6078707498111028\n",
      "Score:  0.5816733067729084 \n",
      "\n",
      "Classification Report: \n",
      "              precision    recall  f1-score   support\n",
      "\n",
      "          0       0.66      0.55      0.60       143\n",
      "          1       0.51      0.62      0.56       108\n",
      "\n",
      "avg / total       0.60      0.58      0.58       251\n",
      "\n"
     ]
    }
   ],
   "source": [
    "# try KNN \n",
    "knn = KNeighborsClassifier()\n",
    "cross_val_knn = cross_val_score(knn, X2_train_dtm, y2_train, cv=5)\n",
    "\n",
    "print ('Cross Val Score: ', np.mean(cross_val_knn))\n",
    "\n",
    "\n",
    "knn.fit(X2_train_dtm, y2_train)\n",
    "\n",
    "pred_knn = knn.predict(X2_test_dtm)\n",
    "print ('Score: ', knn.score(X2_test_dtm, y2_test), '\\n')\n",
    "print ('Classification Report: \\n', classification_report(y2_test, pred_knn))"
   ]
  },
  {
   "cell_type": "markdown",
   "metadata": {},
   "source": [
    "#### Model_2: Logistic Regression"
   ]
  },
  {
   "cell_type": "code",
   "execution_count": 134,
   "metadata": {},
   "outputs": [
    {
     "name": "stdout",
     "output_type": "stream",
     "text": [
      "Cross Val Score:  0.6772866349615538\n",
      "Score: 0.6972111553784861\n",
      "Classification Report: \n",
      "              precision    recall  f1-score   support\n",
      "\n",
      "          0       0.73      0.75      0.74       143\n",
      "          1       0.65      0.63      0.64       108\n",
      "\n",
      "avg / total       0.70      0.70      0.70       251\n",
      "\n"
     ]
    }
   ],
   "source": [
    "logreg = LogisticRegression()\n",
    "logreg.fit(X2_train_dtm, y2_train)\n",
    "cross_val_logreg = cross_val_score(logreg, X2_train_dtm, y2_train, cv=5)\n",
    "print ('Cross Val Score: ', np.mean(cross_val_logreg))\n",
    "\n",
    "pred_logreg = pd.DataFrame(logreg.predict(X2_test_dtm))  \n",
    "probs = pd.DataFrame(logreg.predict_proba(X2_test_dtm))\n",
    "print(\"Score:\", logreg.score(X2_test_dtm, y2_test))\n",
    "print('Classification Report: \\n', classification_report(y2_test, pred_logreg))\n"
   ]
  },
  {
   "cell_type": "markdown",
   "metadata": {},
   "source": [
    "#### Model_3: Random Forest"
   ]
  },
  {
   "cell_type": "code",
   "execution_count": 135,
   "metadata": {},
   "outputs": [
    {
     "name": "stdout",
     "output_type": "stream",
     "text": [
      "Score: 0.6653386454183267\n",
      "             precision    recall  f1-score   support\n",
      "\n",
      "          0       0.68      0.78      0.73       143\n",
      "          1       0.64      0.52      0.57       108\n",
      "\n",
      "avg / total       0.66      0.67      0.66       251\n",
      "\n"
     ]
    }
   ],
   "source": [
    "rf = RandomForestClassifier()  \n",
    "\n",
    "rfm = rf.fit(X2_train_dtm, y2_train)  \n",
    "\n",
    "pred_rf = pd.DataFrame(rfm.predict(X2_test_dtm))  \n",
    "probs = pd.DataFrame(rfm.predict_proba(X2_test_dtm))\n",
    "\n",
    "rf_accuracy = accuracy_score(y2_test, pred_rf)  \n",
    "print(\"Score:\",rf_accuracy)\n",
    "print(classification_report(y2_test, pred_rf))"
   ]
  },
  {
   "cell_type": "code",
   "execution_count": 136,
   "metadata": {},
   "outputs": [],
   "source": [
    "# using these 2 features are performing worse!"
   ]
  },
  {
   "cell_type": "code",
   "execution_count": 137,
   "metadata": {},
   "outputs": [],
   "source": [
    "# tried a few combinations, but 1 is still the best, probably should write a for loop \n",
    "# for now, take round 1 as the 'ideal' combination"
   ]
  },
  {
   "cell_type": "markdown",
   "metadata": {},
   "source": [
    "### Further findings.."
   ]
  },
  {
   "cell_type": "markdown",
   "metadata": {},
   "source": [
    "Round 1's features, using logistic regression gave us the highest score. "
   ]
  },
  {
   "cell_type": "code",
   "execution_count": 138,
   "metadata": {},
   "outputs": [],
   "source": [
    "# diving deeper with logistic regression"
   ]
  },
  {
   "cell_type": "code",
   "execution_count": 139,
   "metadata": {},
   "outputs": [],
   "source": [
    "# exploring..\n",
    "# TFIDF Vectorizer\n",
    "tfidf = TfidfVectorizer(stop_words='english', ngram_range=(1,2), min_df=3)\n",
    "X_train_tf = tfidf.fit_transform(X_train)\n",
    "X_test_tf = tfidf.transform(X_test)\n"
   ]
  },
  {
   "cell_type": "code",
   "execution_count": 140,
   "metadata": {},
   "outputs": [
    {
     "name": "stdout",
     "output_type": "stream",
     "text": [
      "Cross Val Score:  0.718612560558247\n",
      "Score: 0.6932270916334662\n",
      "Classification Report: \n",
      "              precision    recall  f1-score   support\n",
      "\n",
      "          0       0.71      0.79      0.75       143\n",
      "          1       0.67      0.56      0.61       108\n",
      "\n",
      "avg / total       0.69      0.69      0.69       251\n",
      "\n"
     ]
    }
   ],
   "source": [
    "logreg = LogisticRegression()\n",
    "logreg.fit(X_train_tf, y_train)\n",
    "cross_val_logreg = cross_val_score(logreg, X_train_tf, y_train, cv=5)\n",
    "print ('Cross Val Score: ', np.mean(cross_val_logreg))\n",
    "\n",
    "pred_logreg = pd.DataFrame(logreg.predict(X_test_tf))  \n",
    "probs = pd.DataFrame(logreg.predict_proba(X_test_tf))\n",
    "print(\"Score:\", logreg.score(X_test_tf, y_test))\n",
    "print('Classification Report: \\n', classification_report(y_test, pred_logreg))\n"
   ]
  },
  {
   "cell_type": "code",
   "execution_count": 141,
   "metadata": {},
   "outputs": [],
   "source": [
    "# cvec gives a better score than tfidf. to use cvec"
   ]
  },
  {
   "cell_type": "code",
   "execution_count": 142,
   "metadata": {},
   "outputs": [
    {
     "name": "stdout",
     "output_type": "stream",
     "text": [
      "Cross Val Score:  0.746667318547491\n",
      "Score: 0.7131474103585658\n",
      "Classification Report: \n",
      "              precision    recall  f1-score   support\n",
      "\n",
      "          0       0.74      0.76      0.75       143\n",
      "          1       0.67      0.66      0.66       108\n",
      "\n",
      "avg / total       0.71      0.71      0.71       251\n",
      "\n"
     ]
    }
   ],
   "source": [
    "# model 1, log reg \n",
    "\n",
    "logreg = LogisticRegression()\n",
    "logreg.fit(X_train_dtm, y_train)\n",
    "cross_val_logreg = cross_val_score(logreg, X_train_dtm, y_train, cv=5)\n",
    "print ('Cross Val Score: ', np.mean(cross_val_logreg))\n",
    "\n",
    "pred_logreg = pd.DataFrame(logreg.predict(X_test_dtm))  \n",
    "probs = pd.DataFrame(logreg.predict_proba(X_test_dtm))\n",
    "print(\"Score:\", logreg.score(X_test_dtm, y_test))\n",
    "print('Classification Report: \\n', classification_report(y_test, pred_logreg))\n"
   ]
  },
  {
   "cell_type": "markdown",
   "metadata": {},
   "source": [
    "#### Pull out top features"
   ]
  },
  {
   "cell_type": "code",
   "execution_count": 101,
   "metadata": {},
   "outputs": [
    {
     "name": "stdout",
     "output_type": "stream",
     "text": [
      "Cross Val Score:  0.7279822806939568\n",
      "Score: 0.7250996015936255\n",
      "Classification Report: \n",
      "              precision    recall  f1-score   support\n",
      "\n",
      "          0       0.75      0.78      0.76       143\n",
      "          1       0.69      0.65      0.67       108\n",
      "\n",
      "avg / total       0.72      0.73      0.72       251\n",
      "\n"
     ]
    }
   ],
   "source": [
    "# Round 1, log reg\n",
    "\"\"\"\n",
    "logreg = LogisticRegression()\n",
    "logreg.fit(X_train_dtm, y_train)\n",
    "cross_val_logreg = cross_val_score(logreg, X_train_dtm, y_train, cv=5)\n",
    "print ('Cross Val Score: ', np.mean(cross_val_logreg))\n",
    "\n",
    "pred_logreg = pd.DataFrame(logreg.predict(X_test_dtm))  \n",
    "probs = pd.DataFrame(logreg.predict_proba(X_test_dtm))\n",
    "print(\"Score:\", logreg.score(X_test_dtm, y_test))\n",
    "print('Classification Report: \\n', classification_report(y_test, pred_logreg))\"\"\"\n"
   ]
  },
  {
   "cell_type": "code",
   "execution_count": 143,
   "metadata": {},
   "outputs": [
    {
     "data": {
      "text/plain": [
       "\"\\nparam = {'alpha': [0.0001, 0.001, 0.01, 0.1, 1, 10], \\n        'penalty': ['elasticnet', 'l1', 'l2'],\\n        'loss': ['hinge', 'log']\\n}\\n\\ngrid = GridSearchCV(logreg, param, verbose=1, cv=10, n_jobs=4)\\n\\ngrid.fit(X_train_dtm, y_train)\""
      ]
     },
     "execution_count": 143,
     "metadata": {},
     "output_type": "execute_result"
    }
   ],
   "source": [
    "# to try gridsearch again, keep throwing errors..\n",
    "\"\"\"\n",
    "param = {'alpha': [0.0001, 0.001, 0.01, 0.1, 1, 10], \n",
    "        'penalty': ['elasticnet', 'l1', 'l2'],\n",
    "        'loss': ['hinge', 'log']\n",
    "}\n",
    "\n",
    "grid = GridSearchCV(logreg, param, verbose=1, cv=10, n_jobs=4)\n",
    "\n",
    "grid.fit(X_train_dtm, y_train)\"\"\""
   ]
  },
  {
   "cell_type": "markdown",
   "metadata": {},
   "source": [
    "### Conclusion"
   ]
  },
  {
   "cell_type": "markdown",
   "metadata": {},
   "source": [
    "Using Logistic regression, we are able to classify the jobs to the respective salary bands with 71% accuracy.\n"
   ]
  },
  {
   "cell_type": "markdown",
   "metadata": {},
   "source": [
    "## Question 2\n",
    "\n",
    "Using the job postings you scraped for part 1 (or potentially new job postings from a second round of scraping), identify features in the data related to job postings that can distinguish job titles from each other. There are a variety of interesting ways you can frame the target variable."
   ]
  },
  {
   "cell_type": "code",
   "execution_count": 106,
   "metadata": {},
   "outputs": [],
   "source": [
    "# to look at the requirements column..\n",
    "jobs1 = jobs.copy()"
   ]
  },
  {
   "cell_type": "code",
   "execution_count": 107,
   "metadata": {},
   "outputs": [],
   "source": [
    "# if data_scientist == 1, else == 0\n",
    "\n",
    "jobs1['data_scientist'] = jobs1.Title.apply(lambda x: str(x))\n",
    "\n",
    "jobs1['data_scientist'] = jobs1.data_scientist.apply(lambda x: 1 if 'data scientist' in x.lower() or 'data science' in x.lower() or 'scientist' in x.lower() else 0)"
   ]
  },
  {
   "cell_type": "code",
   "execution_count": 108,
   "metadata": {},
   "outputs": [
    {
     "data": {
      "text/plain": [
       "0    851\n",
       "1    150\n",
       "Name: data_scientist, dtype: int64"
      ]
     },
     "execution_count": 108,
     "metadata": {},
     "output_type": "execute_result"
    }
   ],
   "source": [
    "jobs1.data_scientist.value_counts()\n"
   ]
  },
  {
   "cell_type": "code",
   "execution_count": 109,
   "metadata": {},
   "outputs": [],
   "source": [
    "X_2 = jobs1['Requirements']\n",
    "y_2 = jobs1['data_scientist']"
   ]
  },
  {
   "cell_type": "code",
   "execution_count": 113,
   "metadata": {},
   "outputs": [],
   "source": [
    "# split\n",
    "X_train_2, X_test_2, y_train_2, y_test_2 = train_test_split(X_2, y_2, test_size=0.25, random_state=42)"
   ]
  },
  {
   "cell_type": "code",
   "execution_count": 114,
   "metadata": {},
   "outputs": [],
   "source": [
    "# do i need to upsample or perform undersampling? hmm.."
   ]
  },
  {
   "cell_type": "code",
   "execution_count": 148,
   "metadata": {},
   "outputs": [],
   "source": [
    "# looking into \n",
    "jobs['Responsibility'] = jobs['Responsibility'].apply(lambda x: re.sub('[^ a-zA-Z+]',' ',x).lower())\n",
    "vect.fit_transform(jobs['Responsibility'])\n",
    "words = pd.DataFrame(vect.fit_transform(jobs['Responsibility']).todense(),columns = vect.get_feature_names())"
   ]
  },
  {
   "cell_type": "code",
   "execution_count": 149,
   "metadata": {},
   "outputs": [],
   "source": [
    "top30 = words.iloc[:,:-1].T.sum(axis=1).sort_values(ascending=False).head(30)"
   ]
  },
  {
   "cell_type": "code",
   "execution_count": 152,
   "metadata": {},
   "outputs": [
    {
     "data": {
      "text/plain": [
       "and             12391\n",
       "the              6800\n",
       "to               6041\n",
       "of               4662\n",
       "in               3325\n",
       "data             3157\n",
       "for              2726\n",
       "with             2548\n",
       "business         1864\n",
       "on               1456\n",
       "our              1357\n",
       "as               1211\n",
       "is               1160\n",
       "will             1155\n",
       "team             1106\n",
       "we               1051\n",
       "are              1030\n",
       "you               992\n",
       "of the            949\n",
       "work              936\n",
       "be                868\n",
       "that              844\n",
       "support           750\n",
       "management        749\n",
       "solutions         702\n",
       "design            680\n",
       "analytics         657\n",
       "requirements      651\n",
       "research          619\n",
       "learning          615\n",
       "dtype: int64"
      ]
     },
     "execution_count": 152,
     "metadata": {},
     "output_type": "execute_result"
    }
   ],
   "source": [
    "# seems like something wrong with stopwords\n",
    "top30"
   ]
  },
  {
   "cell_type": "markdown",
   "metadata": {},
   "source": [
    "### Findings"
   ]
  },
  {
   "cell_type": "markdown",
   "metadata": {},
   "source": [
    "top features = data, business, team, management, solutions, design, analytics, research, learning....\n",
    "need to clean up and investigate further..."
   ]
  },
  {
   "cell_type": "code",
   "execution_count": null,
   "metadata": {},
   "outputs": [],
   "source": []
  },
  {
   "cell_type": "code",
   "execution_count": null,
   "metadata": {},
   "outputs": [],
   "source": [
    "#misc, for future"
   ]
  },
  {
   "cell_type": "code",
   "execution_count": null,
   "metadata": {},
   "outputs": [],
   "source": [
    "# to try gridsearch again. keep throwing error... "
   ]
  },
  {
   "cell_type": "code",
   "execution_count": 147,
   "metadata": {},
   "outputs": [
    {
     "data": {
      "text/plain": [
       "\"rfc = RandomForestClassifier()\\n\\nparam = {'n_estimators': [10, 15, 20, 30, 35, 40, 45],\\n         'min_samples_split': [2,5,7],\\n         'min_samples_leaf': [1,3,5,7]\\n}\\n\\ngrid_rfctf = GridSearchCV(rfc, param, verbose=1, cv=10, n_jobs=4)\\n\\ngrid_rfctf.fit(X_train_2, y_train_2)\""
      ]
     },
     "execution_count": 147,
     "metadata": {},
     "output_type": "execute_result"
    }
   ],
   "source": [
    "\"\"\"rfc = RandomForestClassifier()\n",
    "\n",
    "param = {'n_estimators': [10, 15, 20, 30, 35, 40, 45],\n",
    "         'min_samples_split': [2,5,7],\n",
    "         'min_samples_leaf': [1,3,5,7]\n",
    "}\n",
    "\n",
    "grid_rfctf = GridSearchCV(rfc, param, verbose=1, cv=10, n_jobs=4)\n",
    "\n",
    "grid_rfctf.fit(X_train_2, y_train_2)\"\"\""
   ]
  },
  {
   "cell_type": "code",
   "execution_count": null,
   "metadata": {},
   "outputs": [],
   "source": []
  },
  {
   "cell_type": "code",
   "execution_count": null,
   "metadata": {},
   "outputs": [],
   "source": []
  },
  {
   "cell_type": "code",
   "execution_count": null,
   "metadata": {},
   "outputs": [],
   "source": []
  }
 ],
 "metadata": {
  "kernelspec": {
   "display_name": "Python 3",
   "language": "python",
   "name": "python3"
  },
  "language_info": {
   "codemirror_mode": {
    "name": "ipython",
    "version": 3
   },
   "file_extension": ".py",
   "mimetype": "text/x-python",
   "name": "python",
   "nbconvert_exporter": "python",
   "pygments_lexer": "ipython3",
   "version": "3.6.5"
  }
 },
 "nbformat": 4,
 "nbformat_minor": 2
}
